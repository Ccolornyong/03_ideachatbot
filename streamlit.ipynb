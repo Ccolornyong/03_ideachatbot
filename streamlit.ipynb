{
 "cells": [
  {
   "cell_type": "code",
   "execution_count": null,
   "metadata": {},
   "outputs": [],
   "source": [
    "# ! pip install streamlit"
   ]
  },
  {
   "cell_type": "code",
   "execution_count": 1,
   "metadata": {},
   "outputs": [
    {
     "name": "stderr",
     "output_type": "stream",
     "text": [
      "2024-07-15 14:12:34.103 \n",
      "  \u001b[33m\u001b[1mWarning:\u001b[0m to view this Streamlit app on a browser, run it with the following\n",
      "  command:\n",
      "\n",
      "    streamlit run C:\\Users\\SUNJIN\\AppData\\Local\\Packages\\PythonSoftwareFoundation.Python.3.11_qbz5n2kfra8p0\\LocalCache\\local-packages\\Python311\\site-packages\\ipykernel_launcher.py [ARGUMENTS]\n"
     ]
    },
    {
     "data": {
      "text/plain": [
       "DeltaGenerator()"
      ]
     },
     "execution_count": 1,
     "metadata": {},
     "output_type": "execute_result"
    }
   ],
   "source": [
    "import streamlit as st\n",
    "\n",
    "text = \"마지막 레이어의 로짓값을 가정\"\n",
    "st.header(text, divider='rainbow')\n",
    "st.subheader(text)\n",
    "st.title(text)\n",
    "st.write(text)\n",
    "st.write(\"# Bar Chart\")\n",
    "vocab_logits = {\"나는\": 0.01,\"내일\": 0.03,\"오늘\": 0.25,\"어제\": 0.3,\n",
    "                \"산에\": 0.4,\"학교에\": 0.5,\"집에\": 0.65,\n",
    "                \"오른다\": 1.2,\"간다\": 1.05,\"왔다\": 0.95}\n",
    "st.bar_chart(vocab_logits)\n",
    "st.caption(text)"
   ]
  }
 ],
 "metadata": {
  "kernelspec": {
   "display_name": "Python 3",
   "language": "python",
   "name": "python3"
  },
  "language_info": {
   "codemirror_mode": {
    "name": "ipython",
    "version": 3
   },
   "file_extension": ".py",
   "mimetype": "text/x-python",
   "name": "python",
   "nbconvert_exporter": "python",
   "pygments_lexer": "ipython3",
   "version": "3.11.9"
  }
 },
 "nbformat": 4,
 "nbformat_minor": 2
}
