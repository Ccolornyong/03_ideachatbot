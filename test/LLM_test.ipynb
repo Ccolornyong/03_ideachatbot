{
 "cells": [
  {
   "cell_type": "markdown",
   "metadata": {},
   "source": [
    "import"
   ]
  },
  {
   "cell_type": "code",
   "execution_count": 1,
   "metadata": {},
   "outputs": [],
   "source": [
    "import os"
   ]
  },
  {
   "cell_type": "markdown",
   "metadata": {},
   "source": [
    "xionic-ko-llama"
   ]
  },
  {
   "cell_type": "code",
   "execution_count": 27,
   "metadata": {},
   "outputs": [],
   "source": [
    "from openai import OpenAI\n",
    "\n",
    "client = OpenAI(\n",
    "    base_url = \"http://sionic.chat:8001/v1\",\n",
    "    api_key = \"934c4bbc-c384-4bea-af82-1450d7f8128d\"\n",
    ")"
   ]
  },
  {
   "cell_type": "code",
   "execution_count": 7,
   "metadata": {},
   "outputs": [
    {
     "name": "stdout",
     "output_type": "stream",
     "text": [
      "ChatCompletion(id='cmpl-f0f3875f4a9043dba8d47eb2aedb0079', choices=[Choice(finish_reason='stop', index=0, logprobs=None, message=ChatCompletionMessage(content='안녕하세요. 아이브(IVE)의 리더, 안유진은 이전에 걸그룹 Iz*One의 멤버로 활동했습니다. Iz*One은 2018년 Mnet의 프로듀스 48을 통해 결성된 프로젝트 걸그룹으로, 총 12명의 멤버로 구성되어 있었습니다. 이 그룹은 2019년 2월 6일에 데뷔 싱글 \"라비앙로즈\"를 발매하면서 활동을 시작했으며, 2021년 4월 29일에 공식적으로 해체되었습니다. 안유진은 Iz*One에서 리더를 맡아 활동했으며, 그룹의 해체 후 현재는 아이브의 리더로 활동하고 있습니다.', role='assistant', function_call=None, tool_calls=None), stop_reason=None)], created=1721196750, model='xionic-ko-llama-3-70b', object='chat.completion', service_tier=None, system_fingerprint=None, usage=CompletionUsage(completion_tokens=162, prompt_tokens=56, total_tokens=218))\n"
     ]
    }
   ],
   "source": [
    "response = client.chat.completions.create(\n",
    "    model=\"xionic-ko-llama-3-70b\",\n",
    "    messages=[\n",
    "        {\"role\": \"system\", \"content\": \"You are an AI assistant. You will be given a task. You must generate a detailed and long answer in korean.\"},\n",
    "        {\"role\": \"user\", \"content\": \"아이브 리더가 활동했던 이전 걸그룹의 명칭은?\"}\n",
    "    ]\n",
    ")\n",
    "\n",
    "print (response)"
   ]
  },
  {
   "cell_type": "markdown",
   "metadata": {},
   "source": [
    "문서 가져오기"
   ]
  },
  {
   "cell_type": "code",
   "execution_count": 2,
   "metadata": {},
   "outputs": [],
   "source": [
    "PATH = \"C:/Users/SUNJIN/Documents/인턴/03_ideachatbot/data\"\n",
    "product_data = os.path.join(\n",
    "    PATH, \"년도별 신제품 리스트_냉장-240425.xlsx\"\n",
    ")"
   ]
  },
  {
   "cell_type": "code",
   "execution_count": 26,
   "metadata": {},
   "outputs": [],
   "source": [
    "def read_prompt_template(file_path: str) -> str:\n",
    "    with open(file_path, \"rb\") as f:\n",
    "        prompt_template = f.read()\n",
    "\n",
    "    return prompt_template"
   ]
  },
  {
   "cell_type": "code",
   "execution_count": null,
   "metadata": {},
   "outputs": [],
   "source": []
  }
 ],
 "metadata": {
  "kernelspec": {
   "display_name": "base",
   "language": "python",
   "name": "python3"
  },
  "language_info": {
   "codemirror_mode": {
    "name": "ipython",
    "version": 3
   },
   "file_extension": ".py",
   "mimetype": "text/x-python",
   "name": "python",
   "nbconvert_exporter": "python",
   "pygments_lexer": "ipython3",
   "version": "3.12.4"
  }
 },
 "nbformat": 4,
 "nbformat_minor": 2
}
