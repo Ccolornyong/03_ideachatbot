{
 "cells": [
  {
   "cell_type": "code",
   "execution_count": 1,
   "metadata": {},
   "outputs": [],
   "source": [
    "import os\n",
    "\n",
    "from langchain.text_splitter import RecursiveCharacterTextSplitter\n",
    "from langchain_community.vectorstores import Chroma\n",
    "from langchain.embeddings import HuggingFaceBgeEmbeddings\n",
    "from langchain_community.document_loaders import PyPDFLoader\n",
    "from openai import OpenAI\n",
    "import streamlit as st"
   ]
  },
  {
   "cell_type": "code",
   "execution_count": 2,
   "metadata": {},
   "outputs": [],
   "source": [
    "client = OpenAI(\n",
    "    base_url = \"http://sionic.chat:8001/v1\",\n",
    "    api_key = \"934c4bbc-c384-4bea-af82-1450d7f8128d\"\n",
    ")"
   ]
  },
  {
   "cell_type": "code",
   "execution_count": 3,
   "metadata": {},
   "outputs": [],
   "source": [
    "user_query = \"최저시급 대해 정보를 출력해줘\""
   ]
  },
  {
   "cell_type": "code",
   "execution_count": 4,
   "metadata": {},
   "outputs": [
    {
     "name": "stderr",
     "output_type": "stream",
     "text": [
      "c:\\Users\\SUNJIN\\anaconda3\\envs\\intern\\lib\\site-packages\\langchain_core\\_api\\deprecation.py:139: LangChainDeprecationWarning: The class `HuggingFaceEmbeddings` was deprecated in LangChain 0.2.2 and will be removed in 0.3.0. An updated version of the class exists in the langchain-huggingface package and should be used instead. To use it run `pip install -U langchain-huggingface` and import as `from langchain_huggingface import HuggingFaceEmbeddings`.\n",
      "  warn_deprecated(\n",
      "c:\\Users\\SUNJIN\\anaconda3\\envs\\intern\\lib\\site-packages\\sentence_transformers\\cross_encoder\\CrossEncoder.py:11: TqdmWarning: IProgress not found. Please update jupyter and ipywidgets. See https://ipywidgets.readthedocs.io/en/stable/user_install.html\n",
      "  from tqdm.autonotebook import tqdm, trange\n"
     ]
    }
   ],
   "source": [
    "import os\n",
    "import openai\n",
    "import tiktoken\n",
    "\n",
    "os.environ[\"OPENAI_API_KEY\"] = 'API_KEY'\n",
    "\n",
    "tokenizer = tiktoken.get_encoding(\"cl100k_base\")\n",
    "\n",
    "# 토크나이저 기반으로 토큰 개수를 새줌\n",
    "def tiktoken_len(text):\n",
    "    tokens = tokenizer.encode(text)\n",
    "    return len(tokens)\n",
    "\n",
    "\n",
    "from langchain.chains import RetrievalQA\n",
    "from langchain.chat_models import ChatOpenAI\n",
    "from langchain.text_splitter import RecursiveCharacterTextSplitter\n",
    "from langchain.vectorstores import Chroma\n",
    "from langchain.document_loaders import PyPDFLoader\n",
    "\n",
    "loader = PyPDFLoader(\"C:/Users/SUNJIN/Documents/인턴/03_ideachatbot/test/labor_low.pdf\")\n",
    "pages = loader.load_and_split()\n",
    "\n",
    "# chunking\n",
    "text_splitter = RecursiveCharacterTextSplitter(chunk_size=500, chunk_overlap=50, length_function=tiktoken_len)\n",
    "texts = text_splitter.split_documents(pages)\n",
    "\n",
    "# text embedding\n",
    "# embedding model\n",
    "from langchain.embeddings import HuggingFaceEmbeddings\n",
    "\n",
    "model_name =\"jhgan/ko-sbert-nli\"\n",
    "model_kwargs = {'device': 'cpu'}\n",
    "encode_kwargs = {'normalize_embeddings': True}\n",
    "hf = HuggingFaceEmbeddings(\n",
    "    model_name=model_name,\n",
    "    model_kwargs=model_kwargs,\n",
    "    encode_kwargs=encode_kwargs\n",
    ")\n",
    "\n",
    "# texts들에 대해 hf 임베딩 모델로 임베딩 하는 과정 -> 이를 docsearch에 저장\n",
    "docsearch = Chroma.from_documents(texts, hf)"
   ]
  },
  {
   "cell_type": "code",
   "execution_count": 5,
   "metadata": {},
   "outputs": [
    {
     "data": {
      "text/plain": [
       "<langchain_community.vectorstores.chroma.Chroma at 0x10f38915850>"
      ]
     },
     "execution_count": 5,
     "metadata": {},
     "output_type": "execute_result"
    }
   ],
   "source": [
    "docsearch"
   ]
  },
  {
   "cell_type": "code",
   "execution_count": 6,
   "metadata": {},
   "outputs": [
    {
     "name": "stderr",
     "output_type": "stream",
     "text": [
      "c:\\Users\\SUNJIN\\anaconda3\\envs\\intern\\lib\\site-packages\\langchain_core\\_api\\deprecation.py:139: LangChainDeprecationWarning: The class `ChatOpenAI` was deprecated in LangChain 0.0.10 and will be removed in 0.3.0. An updated version of the class exists in the langchain-openai package and should be used instead. To use it run `pip install -U langchain-openai` and import as `from langchain_openai import ChatOpenAI`.\n",
      "  warn_deprecated(\n"
     ]
    }
   ],
   "source": [
    "llm = ChatOpenAI(base_url = \"http://sionic.chat:8001/v1\",\n",
    "    api_key = \"934c4bbc-c384-4bea-af82-1450d7f8128d\",\n",
    "    model=\"xionic-ko-llama-3-70b\",\n",
    "    temperature=0.1)"
   ]
  },
  {
   "cell_type": "code",
   "execution_count": 7,
   "metadata": {},
   "outputs": [],
   "source": [
    "qa = RetrievalQA.from_chain_type(llm = llm,\n",
    "                                 chain_type= \"stuff\",\n",
    "                                 retriever = docsearch.as_retriever(\n",
    "                                     search_type=\"mmr\",\n",
    "                                     search_kwargs={'k':3, 'fetch_k': 10}),\n",
    "                                     return_source_documents=True)"
   ]
  },
  {
   "cell_type": "code",
   "execution_count": 8,
   "metadata": {},
   "outputs": [],
   "source": [
    "# def create_prompt_template(question: str, context: str) -> str:\n",
    "#     prompt_template = f\"\"\"\n",
    "#     You are an AI assistant. Answer the following question in detail and in Korean.\n",
    "\n",
    "#     Question: {question}\n",
    "\n",
    "#     Context: {context}\n",
    "\n",
    "#     Answer:\n",
    "#     \"\"\"\n",
    "#     return prompt_template"
   ]
  },
  {
   "cell_type": "code",
   "execution_count": 9,
   "metadata": {},
   "outputs": [],
   "source": [
    "# def chat_with_bot(question):\n",
    "#     # 관련 문서 검색\n",
    "#     response = qa({\"query\": question})\n",
    "#     context = \" \".join([doc.page_content for doc in response['source_documents']])\n",
    "    \n",
    "#     # 프롬프트 템플릿 생성\n",
    "#     prompt = create_prompt_template(question, context)\n",
    "    \n",
    "#     # 메시지 형식으로 전달\n",
    "#     messages = [\n",
    "#         {\"role\": \"system\", \"content\": \"You are an AI assistant. You will be given a task. You must generate a detailed and long answer in korean.\"},\n",
    "#         {\"role\": \"user\", \"content\": prompt}\n",
    "#     ]\n",
    "    \n",
    "#     # 응답 생성\n",
    "#     chat_response = client.chat.completions.create(messages)\n",
    "    \n",
    "#     # 출력\n",
    "#     print(\"Answer:\", chat_response['choices'][0]['message']['content'])\n",
    "#     print(\"\\nSources:\")\n",
    "#     for source in response['source_documents']:\n",
    "#         print(source.metadata['source'])\n",
    "#         print(source.page_content)\n",
    "#         print(\"\\n---\\n\")\n",
    "\n",
    "# # 예시 질문\n",
    "# question = \"근로조건을 낮출 수 있나요?\"\n",
    "# chat_with_bot(question)"
   ]
  },
  {
   "cell_type": "code",
   "execution_count": 10,
   "metadata": {},
   "outputs": [],
   "source": [
    "# def chat_with_bot(question):\n",
    "#     response = qa({\"query\": question})\n",
    "#     answer = response['result']\n",
    "#     sources = response['source_documents']\n",
    "\n",
    "#     문서 내용을 합쳐서 하나의 컨텍스트로 만들기\n",
    "    \n",
    "#     # 출력\n",
    "#     print(\"Answer:\", answer)\n",
    "#     print(\"\\nSources:\")\n",
    "#     for source in sources:\n",
    "#         print(source.metadata['source'])\n",
    "#         print(source.page_content)\n",
    "#         print(\"\\n---\\n\")\n",
    "\n",
    "# # 예시 질문\n",
    "# question = \"근로조건을 낮출 수 있나요?\"\n",
    "# chat_with_bot(question)"
   ]
  },
  {
   "cell_type": "code",
   "execution_count": 11,
   "metadata": {},
   "outputs": [
    {
     "name": "stderr",
     "output_type": "stream",
     "text": [
      "c:\\Users\\SUNJIN\\anaconda3\\envs\\intern\\lib\\site-packages\\langchain_core\\_api\\deprecation.py:139: LangChainDeprecationWarning: The method `Chain.__call__` was deprecated in langchain 0.1.0 and will be removed in 0.3.0. Use invoke instead.\n",
      "  warn_deprecated(\n"
     ]
    }
   ],
   "source": [
    "def create_prompt_template(question):\n",
    "    template = (\n",
    "        \"당신은 한국 노동법에 대한 전문 지식을 가진 AI 어시스턴트입니다. \"\n",
    "        \"다음 질문에 대해 주어진 문맥을 사용하여 상세하고 정확한 답변을 제공해주세요. \"\n",
    "        \"관련 문맥 부분을 참조하여 답변을 작성하세요.\\n\\n\"\n",
    "        \"질문: {question}\\n\\n\"\n",
    "        \"답변:\"\n",
    "    )\n",
    "    prompt_template = PromptTemplate(\n",
    "        input_variables=[\"question\", \"context\"],\n",
    "        template=template\n",
    "    )\n",
    "    return prompt_template.format(question=question)\n",
    "\n",
    "# chat_with_bot 함수 수정\n",
    "def chat_with_bot(question):\n",
    "    # 질문에 대한 응답 및 관련 문서 검색\n",
    "    response = qa({\"query\": question})\n",
    "    answer = response['result']\n",
    "    sources = response['source_documents']\n",
    "    \n",
    "    # 프롬프트 생성\n",
    "    prompt = create_prompt_template(question)\n",
    "    \n",
    "    # client.chat.completions.create를 사용하여 응답 생성\n",
    "    response = client.chat.completions.create(\n",
    "        model=\"xionic-ko-llama-3-70b\",\n",
    "        messages=[\n",
    "            {\"role\": \"system\", \"content\": \"You are an AI assistant. You will be given a task. You must generate a detailed and long answer in korean.\"},\n",
    "            {\"role\": \"user\", \"content\": prompt}\n",
    "        ]\n",
    "    )\n",
    "    \n",
    "    # 출력\n",
    "    print(\"\\n=== Answer ===\")\n",
    "    print(response)\n",
    "    \n",
    "    print(\"\\n=== Sources ===\")\n",
    "    for i, source in enumerate(sources, 1):\n",
    "        print(f\"\\n--- Source {i} ---\")\n",
    "        print(f\"Source File: {source.metadata['source']}\")\n",
    "        print(f\"Page Number: {source.metadata.get('page', 'N/A')}\")\n",
    "        print(source.page_content)\n",
    "\n",
    "# 예시 질문\n",
    "question = \"휴가를 내고 여행가고 싶은데 얼마나 휴가 내는 것이 가능할까?\"\n",
    "chat_with_bot(question)"
   ]
  },
  {
   "cell_type": "code",
   "execution_count": 20,
   "metadata": {},
   "outputs": [
    {
     "data": {
      "text/plain": [
       "{'query': '최저시급 대해 정보를 출력해줘',\n",
       " 'result': 'I apologize, but there is no information about the minimum wage (최저시급) in the provided context. The context appears to be related to labor laws and regulations in Korea, but it does not mention the minimum wage. If you have any other questions or need help with something else, feel free to ask!',\n",
       " 'source_documents': [Document(metadata={'page': 7, 'source': 'C:/Users/SUNJIN/Documents/인턴/03_ideachatbot/test/labor_low.pdf'}, page_content='임금을 보장하여야 한다.\\n \\n제48조(임금대장 및 임금명세서) ① 사용자는 각 사업장별로 임금대장을 작성하고 임금과 가족수당 계산의 기초가 되\\n는 사항, 임금액, 그 밖에 대통령령으로 정하는 사항을 임금을 지급할 때마다 적어야 한다. <개정 2021. 5. 18.>\\n② 사용자는 임금을 지급하는 때에는 근로자에게 임금의 구성항목ㆍ계산방법, 제43조제1항 단서에 따라 임금의 일\\n부를 공제한 경우의 내역 등 대통령령으로 정하는 사항을 적은 임금명세서를 서면(「전자문서 및 전자거래 기본법」\\n제2조제1호에 따른 전자문서를 포함한다)으로 교부하여야 한다.<신설 2021. 5. 18.>\\n[제목개정 2021. 5. 18.]\\n \\n제49조(임금의 시효) 이 법에 따른 임금채권은 3년간 행사하지 아니하면 시효로 소멸한다.\\n \\n       제4장 근로시간과 휴식\\n \\n제50조(근로시간) ① 1주 간의 근로시간은 휴게시간을 제외하고 40시간을 초과할 수 없다.\\n② 1일의 근로시간은 휴게시간을 제외하고 8시간을 초과할 수 없다.'),\n",
       "  Document(metadata={'page': 6, 'source': 'C:/Users/SUNJIN/Documents/인턴/03_ideachatbot/test/labor_low.pdf'}, page_content='법제처                                                            7                                                       국가법령정보센터\\n근로기준법 \\n체불액 등에 관한 자료(이하 “임금등 체불자료”라 한다)를 요구할 때에는 임금등의 체불을 예방하기 위하여 필요하\\n다고 인정하는 경우에 그 자료를 제공할 수 있다. 다만, 체불사업주의 사망ㆍ폐업으로 임금등 체불자료 제공의 실효\\n성이 없는 경우 등 대통령령으로 정하는 사유가 있는 경우에는 그러하지 아니하다.\\n② 제1항에 따라 임금등 체불자료를 받은 자는 이를 체불사업주의 신용도ㆍ신용거래능력 판단과 관련한 업무 외의\\n목적으로 이용하거나 누설하여서는 아니 된다.\\n③ 제1항에 따른 임금등 체불자료의 제공 절차 및 방법 등 임금등 체불자료의 제공에 필요한 사항은 대통령령으로\\n정한다.\\n[본조신설 2012. 2. 1.]\\n \\n제44조(도급 사업에 대한 임금 지급) ① 사업이 한 차례 이상의 도급에 따라 행하여지는 경우에 하수급인(下受給人)(도\\n급이 한 차례에 걸쳐 행하여진 경우에는 수급인을 말한다)이 직상(直上) 수급인(도급이 한 차례에 걸쳐 행하여진 경'),\n",
       "  Document(metadata={'page': 12, 'source': 'C:/Users/SUNJIN/Documents/인턴/03_ideachatbot/test/labor_low.pdf'}, page_content='자거래 기본법」 제2조제1호에 따른 전자문서를 포함한다)으로 명시하여 교부하여야 한다.<신설 2007. 7. 27., 2020.\\n5. 26., 2021. 1. 5.>\\n \\n제68조(임금의 청구) 미성년자는 독자적으로 임금을 청구할 수 있다.\\n \\n제69조(근로시간) 15세 이상 18세 미만인 사람의 근로시간은 1일에 7시간, 1주에 35시간을 초과하지 못한다. 다만, 당\\n사자 사이의 합의에 따라 1일에 1시간, 1주에 5시간을 한도로 연장할 수 있다. <개정 2018. 3. 20., 2020. 5. 26.>\\n \\n제70조(야간근로와 휴일근로의 제한) ① 사용자는 18세 이상의 여성을 오후 10시부터 오전 6시까지의 시간 및 휴일에\\n근로시키려면 그 근로자의 동의를 받아야 한다.\\n② 사용자는 임산부와 18세 미만자를 오후 10시부터 오전 6시까지의 시간 및 휴일에 근로시키지 못한다. 다만, 다음\\n각 호의 어느 하나에 해당하는 경우로서 고용노동부장관의 인가를 받으면 그러하지 아니하다.<개정 2010. 6. 4.>\\n1. 18세 미만자의 동의가 있는 경우')]}"
      ]
     },
     "execution_count": 20,
     "metadata": {},
     "output_type": "execute_result"
    }
   ],
   "source": [
    "# result = qa(user_query)\n",
    "# result"
   ]
  }
 ],
 "metadata": {
  "kernelspec": {
   "display_name": "intern",
   "language": "python",
   "name": "python3"
  },
  "language_info": {
   "codemirror_mode": {
    "name": "ipython",
    "version": 3
   },
   "file_extension": ".py",
   "mimetype": "text/x-python",
   "name": "python",
   "nbconvert_exporter": "python",
   "pygments_lexer": "ipython3",
   "version": "3.8.19"
  }
 },
 "nbformat": 4,
 "nbformat_minor": 2
}
