{
 "cells": [
  {
   "cell_type": "code",
   "execution_count": null,
   "metadata": {},
   "outputs": [],
   "source": [
    "# ! pip install langchain_openai"
   ]
  },
  {
   "cell_type": "code",
   "execution_count": 1,
   "metadata": {},
   "outputs": [
    {
     "name": "stderr",
     "output_type": "stream",
     "text": [
      "c:\\Users\\SUNJIN\\anaconda3\\envs\\intern\\lib\\site-packages\\tqdm\\auto.py:21: TqdmWarning: IProgress not found. Please update jupyter and ipywidgets. See https://ipywidgets.readthedocs.io/en/stable/user_install.html\n",
      "  from .autonotebook import tqdm as notebook_tqdm\n"
     ]
    }
   ],
   "source": [
    "from dotenv import load_dotenv\n",
    "from langchain_core.prompts import PromptTemplate\n",
    "from langchain.chat_models import ChatOpenAI\n",
    "import os\n",
    "\n",
    "import torch\n",
    "from transformers import AutoTokenizer, AutoModelForCausalLM\n",
    "import transformers\n",
    "import torch\n",
    "import tiktoken\n",
    "from langchain.text_splitter import RecursiveCharacterTextSplitter\n",
    "from langchain_community.vectorstores import Chroma\n",
    "from langchain.embeddings import HuggingFaceEmbeddings\n",
    "from langchain_core.prompts import ChatPromptTemplate, MessagesPlaceholder\n",
    "from langchain.chains import create_history_aware_retriever, create_retrieval_chain\n",
    "from langchain.chains.combine_documents import create_stuff_documents_chain\n",
    "from langchain_core.chat_history import BaseChatMessageHistory\n",
    "from langchain_community.chat_message_histories import ChatMessageHistory\n",
    "from langchain_core.runnables.history import RunnableWithMessageHistory\n",
    "from transformers import AutoTokenizer, AutoModelForCausalLM\n",
    "from langchain_core.prompt_values import ChatPromptValue\n",
    "from langchain_core.runnables import RunnablePassthrough\n",
    "from langchain_huggingface import HuggingFaceEndpoint\n",
    "from langchain.callbacks.streaming_stdout import StreamingStdOutCallbackHandler\n",
    "from langchain.chains import RetrievalQA\n",
    "from dotenv import load_dotenv\n",
    "from langchain_openai import OpenAIEmbeddings\n",
    "from openai import OpenAI\n",
    "\n",
    "from openpyxl import load_workbook\n",
    "from typing import Dict, List, Optional\n",
    "from langchain.docstore.document import Document\n",
    "from langchain.document_loaders.base import BaseLoader\n",
    "\n",
    "from openpyxl import load_workbook\n",
    "from typing import Dict, List, Optional\n",
    "from langchain.docstore.document import Document\n",
    "from langchain.document_loaders.base import BaseLoader"
   ]
  },
  {
   "cell_type": "code",
   "execution_count": 2,
   "metadata": {},
   "outputs": [],
   "source": [
    "load_dotenv()\n",
    "api_key = os.environ.get('Openai_key')"
   ]
  },
  {
   "cell_type": "markdown",
   "metadata": {},
   "source": [
    "사용할 데이터 불러오기"
   ]
  },
  {
   "cell_type": "code",
   "execution_count": 3,
   "metadata": {},
   "outputs": [],
   "source": [
    "class XLSXLoader(BaseLoader):\n",
    "    \"\"\"Loads an XLSX file into a list of documents from specified sheets.\n",
    "\n",
    "    Each document represents one row of the XLSX file. Every row is converted into a\n",
    "    key/value pair and outputted to a new line in the document's page_content, including\n",
    "    the sheet name.\n",
    "\n",
    "    The source for each document loaded from xlsx is set to the value of the\n",
    "    'file_path' argument for all documents by default.\n",
    "    You can override this by setting the 'source_column' argument to the\n",
    "    name of a column in the XLSX file.\n",
    "    The source of each document will then be set to the value of the column\n",
    "    with the name specified in 'source_column'.\n",
    "\n",
    "    Output Example:\n",
    "        .. code-block:: txt\n",
    "\n",
    "            sheet: SheetName\n",
    "            column1: value1\n",
    "            column2: None\n",
    "            column3: value3\n",
    "    \"\"\"\n",
    "\n",
    "    def __init__(\n",
    "            self,\n",
    "            file_path: str,\n",
    "            source_column: Optional[str] = None,\n",
    "            encoding: Optional[str] = None,\n",
    "            exclude_columns: Optional[List[str]] = None,  # 열을 제외할 목록\n",
    "            target_sheets: Optional[List[str]] = None  # 불러올 시트 목록\n",
    "    ):\n",
    "        self.file_path = file_path\n",
    "        self.source_column = source_column\n",
    "        self.encoding = encoding\n",
    "        self.exclude_columns = exclude_columns if exclude_columns else []\n",
    "        self.target_sheets = target_sheets if target_sheets else []\n",
    "\n",
    "    def load(self) -> List[Document]:\n",
    "        docs = []\n",
    "\n",
    "        wb = load_workbook(filename=self.file_path, read_only=True, data_only=True)\n",
    "\n",
    "        # 특정 시트를 처리\n",
    "        sheets_to_process = self.target_sheets if self.target_sheets else wb.sheetnames[1:]\n",
    "\n",
    "        for sheet_name in sheets_to_process:\n",
    "            if sheet_name in wb.sheetnames:\n",
    "                ws = wb[sheet_name]\n",
    "                headers = [cell.value for cell in ws[1]]\n",
    "                headers = [header if header is not None else '' for header in headers]  # None을 빈 문자열로 변환\n",
    "\n",
    "                # 이전 행의 값을 저장하기 위한 리스트\n",
    "                previous_row = [None] * len(headers)\n",
    "\n",
    "                for i, row in enumerate(ws.iter_rows(min_row=2)):\n",
    "                    row_values = [cell.value for cell in row]\n",
    "\n",
    "                    # None 값을 이전 행의 값으로 대체, 제외할 열을 처리\n",
    "                    for j, (value, header) in enumerate(zip(row_values, headers)):\n",
    "                        if value is None and header not in self.exclude_columns:\n",
    "                            row_values[j] = previous_row[j]\n",
    "\n",
    "                        # '단종 여부' 열 처리\n",
    "                        if header == '단종 여부' and value is None:\n",
    "                            row_values[j] = '해당없음'\n",
    "\n",
    "                        # '구분' 열 처리\n",
    "                        if header == '구분':\n",
    "                            if value is None:\n",
    "                                row_values[j] = previous_row[j]\n",
    "                            if 'ODM' in (row_values[j] or ''):\n",
    "                                row_values[j] = 'ODM'\n",
    "                            else:\n",
    "                                row_values[j] = 'OEM'\n",
    "\n",
    "                    row_dict = dict(zip(headers, row_values))\n",
    "\n",
    "                    # 시트 이름과 None 값을 처리하여 'None' 문자열로 변환\n",
    "                    content_lines = [f\"sheet: {sheet_name}\"]  # 시트 이름 추가\n",
    "                    content_lines.extend(\n",
    "                        f\"{k.strip()}: {str(v) if v is not None else 'None'}\"\n",
    "                        for k, v in row_dict.items()\n",
    "                        if k.strip() != ''  # 빈 헤더 무시\n",
    "                    )\n",
    "                    content = \"\\n\".join(content_lines)\n",
    "\n",
    "                    if self.source_column is not None:\n",
    "                        source = row_dict.get(self.source_column, 'None')  # source_column이 없는 경우 'None' 사용\n",
    "                    else:\n",
    "                        source = self.file_path\n",
    "\n",
    "                    metadata = {\"source\": source, \"sheet\": sheet_name}\n",
    "                    doc = Document(page_content=content, metadata=metadata)\n",
    "                    docs.append(doc)\n",
    "\n",
    "                    # 현재 행의 값을 이전 행으로 저장\n",
    "                    previous_row = row_values\n",
    "\n",
    "        return docs"
   ]
  },
  {
   "cell_type": "code",
   "execution_count": 4,
   "metadata": {},
   "outputs": [],
   "source": [
    "# 파일 불러오기\n",
    "loader = XLSXLoader(\n",
    "    file_path=\"C:/Users/SUNJIN/Documents/인턴/03_ideachatbot/data/년도별 신제품 리스트_냉장-240425.xlsx\",\n",
    "    source_column=\"제품명\",\n",
    "    exclude_columns=[\"단종 여부\"],  # 제외할 열 지정\n",
    "    target_sheets=[\"2023\"]  # 불러올 시트 지정\n",
    ")\n",
    "\n",
    "documents = loader.load()"
   ]
  },
  {
   "cell_type": "code",
   "execution_count": 5,
   "metadata": {},
   "outputs": [
    {
     "data": {
      "text/plain": [
       "[Document(metadata={'source': '멜팅피스 핫도그용소시지(오리지널)', 'sheet': '2023'}, page_content='sheet: 2023\\n구분: OEM\\n채널, 고객사: 외식자재\\n제품명: 멜팅피스 핫도그용소시지(오리지널)\\n단종 여부: 해당없음\\n런칭여부: 런칭\\n사용원료: 후지, 지방\\n컨셉: 고기씹는 거친 식감과 육즙이 풍부한 핫도그용 소시지(멜팅피스)'),\n",
       " Document(metadata={'source': '멜팅피스 핫도그용소시지(치즈)', 'sheet': '2023'}, page_content='sheet: 2023\\n구분: OEM\\n채널, 고객사: 외식자재\\n제품명: 멜팅피스 핫도그용소시지(치즈)\\n단종 여부: 해당없음\\n런칭여부: 런칭\\n사용원료: 후지, 지방\\n컨셉: 육 식감이 살아있고 다즙한 콘도그용 치즈 소시지'),\n",
       " Document(metadata={'source': '멜팅피스 핫도그용소시지(치즈&할라피뇨)', 'sheet': '2023'}, page_content='sheet: 2023\\n구분: OEM\\n채널, 고객사: 외식자재\\n제품명: 멜팅피스 핫도그용소시지(치즈&할라피뇨)\\n단종 여부: 해당없음\\n런칭여부: 런칭\\n사용원료: 후지, 지방\\n컨셉: 육 식감이 살아있고 다즙한 콘도그용 치즈&할라피뇨 소시지'),\n",
       " Document(metadata={'source': '초당옥수수핫도그용소시지', 'sheet': '2023'}, page_content='sheet: 2023\\n구분: OEM\\n채널, 고객사: 학교급식\\n제품명: 초당옥수수핫도그용소시지\\n단종 여부: 해당없음\\n런칭여부: 런칭\\n사용원료: 후지, 지방\\n컨셉: 육즙이 풍부한 학교급식용(아질산/MSG 제외) 미니 소시지(#21콜라겐 케이싱, 20g) '),\n",
       " Document(metadata={'source': '트리플슬라이스소시지', 'sheet': '2023'}, page_content='sheet: 2023\\n구분: OEM\\n채널, 고객사: 학교급식\\n제품명: 트리플슬라이스소시지\\n단종 여부: 해당없음\\n런칭여부: 런칭\\n사용원료: 후지, 지방\\n컨셉: 모듬슬라이스소시지 리뉴얼(갈비맛슬라이스소시지, 할라피뇨슬라이스소시지 신규 개발/적용)'),\n",
       " Document(metadata={'source': '본레스햄 슬라이스', 'sheet': '2023'}, page_content='sheet: 2023\\n구분: OEM\\n채널, 고객사: 외식자재\\n제품명: 본레스햄 슬라이스\\n단종 여부: 해당없음\\n런칭여부: 런칭\\n사용원료: 목살\\n컨셉: 잠봉햄 타겟 자사 제조 가능 공정 적용 육괴 입자를 살린 재구성 원형 슬라이스햄\\n본래의 제품 컨셉을 유지한 제품 개발이 필요한 상황\\n원물 규격화 할 수 있는 리테이너 및 슬라이스 중량 편차를 줄일 수 있는 스캐너 설비 보완 필요힘'),\n",
       " Document(metadata={'source': '돈후지 불고기 2종', 'sheet': '2023'}, page_content='sheet: 2023\\n구분: OEM\\n채널, 고객사: 후레시스\\n제품명: 돈후지 불고기 2종\\n단종 여부: 해당없음\\n런칭여부: 뱅킹화\\n사용원료: 후지\\n컨셉: 돈후지를 활용한 2가지 종류의 도시락용 비가열 불고기 제품 (간장/고추장)'),\n",
       " Document(metadata={'source': '돈목살 양념육 2종', 'sheet': '2023'}, page_content='sheet: 2023\\n구분: OEM\\n채널, 고객사: 후레시스\\n제품명: 돈목살 양념육 2종\\n단종 여부: 해당없음\\n런칭여부: 뱅킹화\\n사용원료: 목살\\n컨셉: 돈목살을 활용한 2가지 종류의 도시락용 비가열 양념육 제품 (간장/고추장)\\n고객사 지속 샘플링 중'),\n",
       " Document(metadata={'source': '레몬파슬리 포크소시지', 'sheet': '2023'}, page_content='sheet: 2023\\n구분: OEM\\n채널, 고객사: 외식자재\\n제품명: 레몬파슬리 포크소시지\\n단종 여부: 해당없음\\n런칭여부: 뱅킹화\\n사용원료: 후지, 지방\\n컨셉: 일본 롱셀러 제품 레몬향이 나는 레몬파슬리 소시지 (일본 제품 대비 염미 감소, 육즙 풍부한 식감 요청)\\n런칭 지연 품목'),\n",
       " Document(metadata={'source': '레몬파슬리 닭가슴살소시지', 'sheet': '2023'}, page_content='sheet: 2023\\n구분: OEM\\n채널, 고객사: 후레시스\\n제품명: 레몬파슬리 닭가슴살소시지\\n단종 여부: 해당없음\\n런칭여부: 뱅킹화\\n사용원료: 종계 가슴살\\n컨셉: 일본 롱셀러 제품 레몬향이 나는 닭가슴살활용 레몬파슬리 소시지\\n런칭 지연 품목'),\n",
       " Document(metadata={'source': '매콤돼지구이', 'sheet': '2023'}, page_content='sheet: 2023\\n구분: OEM\\n채널, 고객사: 후레시스\\n제품명: 매콤돼지구이\\n단종 여부: 해당없음\\n런칭여부: 뱅킹화\\n사용원료: 후지\\n컨셉: 매콤한 소스에 버무려진 다이스된 돼지구이 컨셉의 도시락 반찬\\n이마트 24 제안 최근 스펙 만족 피드백'),\n",
       " Document(metadata={'source': '빅킬바사소시지', 'sheet': '2023'}, page_content='sheet: 2023\\n구분: ODM\\n채널, 고객사: GS25\\n제품명: 빅킬바사소시지\\n단종 여부: 단종\\n런칭여부: 런칭\\n사용원료: 후지, 지방\\n컨셉: 돈장 활용 말발굽형태의 냉장 소시지 제품'),\n",
       " Document(metadata={'source': '육즙가득핫도그용소시지', 'sheet': '2023'}, page_content='sheet: 2023\\n구분: ODM\\n채널, 고객사: 신세계푸드\\n제품명: 육즙가득핫도그용소시지\\n단종 여부: 해당없음\\n런칭여부: 런칭\\n사용원료: 후지, 지방\\n컨셉: 핫도그 대리점용 냉장 소시지 제품'),\n",
       " Document(metadata={'source': '큐브찹스테이크', 'sheet': '2023'}, page_content='sheet: 2023\\n구분: ODM\\n채널, 고객사: 군납\\n제품명: 큐브찹스테이크\\n단종 여부: 단종\\n런칭여부: 런칭\\n사용원료: 후지\\n컨셉: 외주업체(에프와이지) 생산하는 후지 다이스하여 소스 버무린 토핑용 제품 '),\n",
       " Document(metadata={'source': 'SF런천미트슬라이스', 'sheet': '2023'}, page_content='sheet: 2023\\n구분: ODM\\n채널, 고객사: 신세계푸드\\n제품명: SF런천미트슬라이스\\n단종 여부: 해당없음\\n런칭여부: 런칭\\n사용원료: 후지, 지방, MDCM\\n컨셉: 진팸 형태의 런천미트 형태의 저가 햄'),\n",
       " Document(metadata={'source': '한우언양불고기', 'sheet': '2023'}, page_content='sheet: 2023\\n구분: ODM\\n채널, 고객사: 반올림피자샵\\n제품명: 한우언양불고기\\n단종 여부: 해당없음\\n런칭여부: 런칭\\n사용원료: 한우\\n컨셉: 한우 목살을 활용한 피자 토핑용 제품'),\n",
       " Document(metadata={'source': '큐브찹스테이크', 'sheet': '2023'}, page_content='sheet: 2023\\n구분: ODM\\n채널, 고객사: 삼성웰스토리\\n제품명: 큐브찹스테이크\\n단종 여부: 해당없음\\n런칭여부: 런칭\\n사용원료: 후지\\n컨셉: 후지 다이스하여 소스 버무린 토핑용 제품 '),\n",
       " Document(metadata={'source': '육즙팡팡미니치즈비엔나', 'sheet': '2023'}, page_content='sheet: 2023\\n구분: ODM\\n채널, 고객사: GS25\\n제품명: 육즙팡팡미니치즈비엔나\\n단종 여부: 해당없음\\n런칭여부: 런칭\\n사용원료: 후지, 지방\\n컨셉: 롯데햄 미니비엔나 벤치마킹 제품으로 9개 2단 형태 비엔나 제품'),\n",
       " Document(metadata={'source': '필리치즈스테이크', 'sheet': '2023'}, page_content='sheet: 2023\\n구분: ODM\\n채널, 고객사: 신세계푸드\\n제품명: 필리치즈스테이크\\n단종 여부: 해당없음\\n런칭여부: 런칭\\n사용원료: 알전각\\n컨셉: 스타벅스 필라프치즈샌드위치 맛 리뉴얼 제품'),\n",
       " Document(metadata={'source': 'SF부대찌개모듬', 'sheet': '2023'}, page_content='sheet: 2023\\n구분: ODM\\n채널, 고객사: 신세계푸드\\n제품명: SF부대찌개모듬\\n단종 여부: 해당없음\\n런칭여부: 런칭\\n사용원료: 후지, 지방\\n컨셉: 롱후랑크어슷, 미트햄, SF런천미트슬라이스 제품 넣은 부대찌개 모듬햄 '),\n",
       " Document(metadata={'source': '찌개용어슷후랑크[부대찌개용]', 'sheet': '2023'}, page_content='sheet: 2023\\n구분: ODM\\n채널, 고객사: GS25\\n제품명: 찌개용어슷후랑크[부대찌개용]\\n단종 여부: 단종\\n런칭여부: 런칭\\n사용원료: 종계 다리살, 지방\\n컨셉: 혜자도시락 부대찌개볶음 도시락 구성품'),\n",
       " Document(metadata={'source': '선진카나디안햄[부대찌개용]', 'sheet': '2023'}, page_content='sheet: 2023\\n구분: ODM\\n채널, 고객사: GS25\\n제품명: 선진카나디안햄[부대찌개용]\\n단종 여부: 단종\\n런칭여부: 런칭\\n사용원료: 후지, 지방\\n컨셉: 혜자도시락 부대찌개볶음 도시락 구성품'),\n",
       " Document(metadata={'source': '진팸[부대찌개용]', 'sheet': '2023'}, page_content='sheet: 2023\\n구분: ODM\\n채널, 고객사: GS25\\n제품명: 진팸[부대찌개용]\\n단종 여부: 단종\\n런칭여부: 런칭\\n사용원료: 후지, 지방\\n컨셉: 혜자도시락 부대찌개볶음 도시락 구성품'),\n",
       " Document(metadata={'source': '선진 허브갈릭닭가슴살소시지', 'sheet': '2023'}, page_content='sheet: 2023\\n구분: ODM\\n채널, 고객사: 제이브로(군납)\\n제품명: 선진 허브갈릭닭가슴살소시지\\n단종 여부: 해당없음\\n런칭여부: 런칭\\n사용원료: 종계 가슴살\\n컨셉: 계육 함량 80% 이상의 퍽퍽하지 않은 부드럽고 탄력있는 닭가슴살 소시지'),\n",
       " Document(metadata={'source': '유어스)바베큐폭립 -오리지널 바베큐맛-', 'sheet': '2023'}, page_content='sheet: 2023\\n구분: ODM\\n채널, 고객사: GS25\\n제품명: 유어스)바베큐폭립 -오리지널 바베큐맛-\\n단종 여부: 단종\\n런칭여부: 런칭\\n사용원료: 로인립\\n컨셉: 편의점 안주/간식용 스모키한 소스를 적용한 로인립\\n시즌 한정 제품으로 조기 단종'),\n",
       " Document(metadata={'source': '유어스)정품소시지', 'sheet': '2023'}, page_content='sheet: 2023\\n구분: ODM\\n채널, 고객사: GS25\\n제품명: 유어스)정품소시지\\n단종 여부: 해당없음\\n런칭여부: 런칭\\n사용원료: 후지, 지방\\n컨셉: 제주산 원료 및 돈장을 활용한 프리미엄 컨셉의 후크걸이 소시지'),\n",
       " Document(metadata={'source': '유어스)바베큐폭립 -매콤한맛-', 'sheet': '2023'}, page_content='sheet: 2023\\n구분: ODM\\n채널, 고객사: GS25\\n제품명: 유어스)바베큐폭립 -매콤한맛-\\n단종 여부: 단종\\n런칭여부: 런칭\\n사용원료: 로인립\\n컨셉: 편의점 안주/간식용 매운맛 소스를 적용한 로인립\\n시즌 한정 제품으로 조기 단종'),\n",
       " Document(metadata={'source': '죠쏘용소시지', 'sheet': '2023'}, page_content='sheet: 2023\\n구분: ODM\\n채널, 고객사: GS25\\n제품명: 죠쏘용소시지\\n단종 여부: 해당없음\\n런칭여부: 런칭\\n사용원료: 후지, 지방\\n컨셉: 떡볶이 국물의 맛에 어우러지는 칼집이 난 연한 훈연이 들어간 미니소시지'),\n",
       " Document(metadata={'source': '라구소스토핑', 'sheet': '2023'}, page_content='sheet: 2023\\n구분: ODM\\n채널, 고객사: 풀무원\\n제품명: 라구소스토핑\\n단종 여부: 해당없음\\n런칭여부: 런칭\\n사용원료: 후지\\n컨셉: 볼로네제 풍미의 소스가 혼합된 냉동 피자용 돈육 토핑'),\n",
       " Document(metadata={'source': '롱후랑크소시지(소포장)', 'sheet': '2023'}, page_content='sheet: 2023\\n구분: ODM\\n채널, 고객사: 신세계푸드\\n제품명: 롱후랑크소시지(소포장)\\n단종 여부: 단종\\n런칭여부: 런칭\\n사용원료: 후지, 지방, MDCM\\n컨셉: 부대찌개 밀키트용 소포장 롱후랑크소시지'),\n",
       " Document(metadata={'source': '소시지슬라이스토핑', 'sheet': '2023'}, page_content='sheet: 2023\\n구분: ODM\\n채널, 고객사: 피자헛\\n제품명: 소시지슬라이스토핑\\n단종 여부: 단종\\n런칭여부: 런칭\\n사용원료: 후지, 지방\\n컨셉: 피자 토핑용 슬라이스 소시지(칵테일 소시지 규격 변경)'),\n",
       " Document(metadata={'source': '그릴에 구워먹는 치킨토핑 [500]', 'sheet': '2023'}, page_content='sheet: 2023\\n구분: ODM\\n채널, 고객사: 도미노피자\\n제품명: 그릴에 구워먹는 치킨토핑 [500]\\n단종 여부: 해당없음\\n런칭여부: 런칭\\n사용원료: 육계 가슴살\\n컨셉: 가존 그릴에 구워먹는 치킨토핑 포장단량 변경 (1kg → 500g) 제품'),\n",
       " Document(metadata={'source': '본레스햄 슬라이스', 'sheet': '2023'}, page_content='sheet: 2023\\n구분: ODM\\n채널, 고객사: 성심당\\n제품명: 본레스햄 슬라이스\\n단종 여부: 단종\\n런칭여부: 런칭\\n사용원료: 목살\\n컨셉: 육괴 입자를 살린 재구성 원형 슬라이스햄'),\n",
       " Document(metadata={'source': '롱후랑크소시지30', 'sheet': '2023'}, page_content='sheet: 2023\\n구분: ODM\\n채널, 고객사: GS25\\n제품명: 롱후랑크소시지30\\n단종 여부: 단종\\n런칭여부: 런칭\\n사용원료: 후지, 지방, MDCM\\n컨셉: 냉동 콘도그 상품 안에 들어가는 가성비 타입의 소시지 제품'),\n",
       " Document(metadata={'source': '리얼프라이스 칼집후랑크소시지', 'sheet': '2023'}, page_content='sheet: 2023\\n구분: ODM\\n채널, 고객사: GS슈퍼마켓\\n제품명: 리얼프라이스 칼집후랑크소시지\\n단종 여부: 해당없음\\n런칭여부: 런칭\\n사용원료: 후지, 지방\\n컨셉: 리얼프라이스 칼집프랑크소시지 extension 제품 (포장단량 및 방식 변경)'),\n",
       " Document(metadata={'source': '핫치킨토핑E', 'sheet': '2023'}, page_content='sheet: 2023\\n구분: ODM\\n채널, 고객사: 그린식품\\n제품명: 핫치킨토핑E\\n단종 여부: 해당없음\\n런칭여부: 런칭\\n사용원료: 육계 가슴살 (브라질산)\\n컨셉: 수입산 육계 가슴살을 원료육으로 매운맛이 강한 치킨베이크용 토핑 제품'),\n",
       " Document(metadata={'source': '육즙가득 선진후랑크', 'sheet': '2023'}, page_content='sheet: 2023\\n구분: ODM\\n채널, 고객사: 디엔비\\n제품명: 육즙가득 선진후랑크\\n단종 여부: 해당없음\\n런칭여부: 런칭\\n사용원료: 후지, 지방\\n컨셉: 빼빼롱소시지 extension 제품'),\n",
       " Document(metadata={'source': '페퍼로니-I', 'sheet': '2023'}, page_content='sheet: 2023\\n구분: ODM\\n채널, 고객사: 이삭토스트\\n제품명: 페퍼로니-I\\n단종 여부: 해당없음\\n런칭여부: 런칭\\n사용원료: 후지, 지방\\n컨셉: 토스트 토핑용 3mm 두께의 페파로니'),\n",
       " Document(metadata={'source': '선진 닭가슴살슬라이스햄', 'sheet': '2023'}, page_content='sheet: 2023\\n구분: ODM\\n채널, 고객사: 군납\\n제품명: 선진 닭가슴살슬라이스햄\\n단종 여부: 해당없음\\n런칭여부: 런칭\\n사용원료: 육계가슴살\\n컨셉: 군납용 트레이 포장된 닭가슴살 슬라이스햄'),\n",
       " Document(metadata={'source': '페퍼맛소시지15(냉장)', 'sheet': '2023'}, page_content='sheet: 2023\\n구분: ODM\\n채널, 고객사: GS25\\n제품명: 페퍼맛소시지15(냉장)\\n단종 여부: 단종\\n런칭여부: 런칭\\n사용원료: 후지, 지방\\n컨셉: 주먹밥 도시락용 소중량 소시지'),\n",
       " Document(metadata={'source': '육즙팡팡클래식소시지', 'sheet': '2023'}, page_content='sheet: 2023\\n구분: ODM\\n채널, 고객사: GS25\\n제품명: 육즙팡팡클래식소시지\\n단종 여부: 해당없음\\n런칭여부: 런칭\\n사용원료: 후지, 지방\\n컨셉: 프리미엄 소시지를 활용한 핫도그용 소시지'),\n",
       " Document(metadata={'source': '회오리소시지바', 'sheet': '2023'}, page_content='sheet: 2023\\n구분: ODM\\n채널, 고객사: 이마트24\\n제품명: 회오리소시지바\\n단종 여부: 해당없음\\n런칭여부: 런칭\\n사용원료: 후지, 지방\\n컨셉: 토네이도 칼집이 적용된 차별화된 외관의 꼬치소시지'),\n",
       " Document(metadata={'source': '훈제닭다리스테이크(장각)', 'sheet': '2023'}, page_content='sheet: 2023\\n구분: ODM\\n채널, 고객사: 군납\\n제품명: 훈제닭다리스테이크(장각)\\n단종 여부: 해당없음\\n런칭여부: 런칭\\n사용원료: 장각\\n컨셉: 선진스모크치킨장각 외주 OEM 이관 제품 (주원산오리)'),\n",
       " Document(metadata={'source': '한돈 양념갈비', 'sheet': '2023'}, page_content='sheet: 2023\\n구분: ODM\\n채널, 고객사: 담꾹\\n제품명: 한돈 양념갈비\\n단종 여부: 해당없음\\n런칭여부: 런칭\\n사용원료: 갈비\\n컨셉: 담꾹 메뉴시연회용 갈비찜 요청(돈육, 우육) / LA 돈갈비를 사용한 한돈 양념갈비 확정'),\n",
       " Document(metadata={'source': '일품 소갈비찜', 'sheet': '2023'}, page_content='sheet: 2023\\n구분: ODM\\n채널, 고객사: 담꾹\\n제품명: 일품 소갈비찜\\n단종 여부: 단종\\n런칭여부: 런칭\\n사용원료: 소갈비\\n컨셉: 담꾹 메뉴시연회용 갈비찜 요청(돈육, 우육) / 미국산 갈비를 사용한 명절 한정 일품 소갈비찜 확정'),\n",
       " Document(metadata={'source': '쿠팡PB 토네이도 칼집 소시지', 'sheet': '2023'}, page_content='sheet: 2023\\n구분: ODM\\n채널, 고객사: 쿠팡\\n제품명: 쿠팡PB 토네이도 칼집 소시지\\n단종 여부: 해당없음\\n런칭여부: 런칭\\n사용원료: 후지, 지방\\n컨셉: 쿠팡 신규 메뉴용 토네이도소시지 포장 입수량 증량 샘플 요청'),\n",
       " Document(metadata={'source': '쫀도그용후랑크', 'sheet': '2023'}, page_content='sheet: 2023\\n구분: ODM\\n채널, 고객사: 그린식품\\n제품명: 쫀도그용후랑크\\n단종 여부: 해당없음\\n런칭여부: 런칭\\n사용원료: 후지, 지방\\n컨셉: 핫도그용 소시지 형태의 제품'),\n",
       " Document(metadata={'source': 'The 맛있는 베이컨', 'sheet': '2023'}, page_content='sheet: 2023\\n구분: ODM\\n채널, 고객사: 온라인\\n제품명: The 맛있는 베이컨\\n단종 여부: 해당없음\\n런칭여부: 런칭\\n사용원료: 전지\\n컨셉: 온라인 채널 판매용 전지베이컨'),\n",
       " Document(metadata={'source': 'The 맛있는 후랑크', 'sheet': '2023'}, page_content='sheet: 2023\\n구분: ODM\\n채널, 고객사: 온라인\\n제품명: The 맛있는 후랑크\\n단종 여부: 해당없음\\n런칭여부: 런칭\\n사용원료: 후지, 지방\\n컨셉: 온라인 채널 판매용 후랑크'),\n",
       " Document(metadata={'source': '이탈리안페퍼소시지', 'sheet': '2023'}, page_content='sheet: 2023\\n구분: ODM\\n채널, 고객사: 도미노피자\\n제품명: 이탈리안페퍼소시지\\n단종 여부: 해당없음\\n런칭여부: 런칭\\n사용원료: 후지, 지방\\n컨셉: 이탈리안 허브 시즈닝을 적용한 슬라이스 소시지'),\n",
       " Document(metadata={'source': '한솥토네이도소시지 페퍼', 'sheet': '2023'}, page_content='sheet: 2023\\n구분: ODM\\n채널, 고객사: 한솥도시락\\n제품명: 한솥토네이도소시지 페퍼\\n단종 여부: 해당없음\\n런칭여부: 뱅킹화\\n사용원료: 후지, 지방\\n컨셉: 토네이도 형태의 페퍼맛 소시지 제품'),\n",
       " Document(metadata={'source': '한솥토네이도소시지 청양고추', 'sheet': '2023'}, page_content='sheet: 2023\\n구분: ODM\\n채널, 고객사: 한솥도시락\\n제품명: 한솥토네이도소시지 청양고추\\n단종 여부: 해당없음\\n런칭여부: 뱅킹화\\n사용원료: 후지, 지방\\n컨셉: 도시락 반찬용 매운 청양고추를 넣은 토네이이도 소시지'),\n",
       " Document(metadata={'source': '살시챠토핑', 'sheet': '2023'}, page_content='sheet: 2023\\n구분: ODM\\n채널, 고객사: 신세계푸드\\n제품명: 살시챠토핑\\n단종 여부: 해당없음\\n런칭여부: 뱅킹화\\n사용원료: 후지, 지방\\n컨셉: 이태리 살시차 소시지 맛의 피자 토핑용 제품'),\n",
       " Document(metadata={'source': '동물복지 한솥토네이도소시지', 'sheet': '2023'}, page_content='sheet: 2023\\n구분: ODM\\n채널, 고객사: 한솥도시락\\n제품명: 동물복지 한솥토네이도소시지\\n단종 여부: 해당없음\\n런칭여부: 뱅킹화\\n사용원료: 후지, 지방\\n컨셉: 동물복지원료 사용한 한솥토네이도 소시지 제품'),\n",
       " Document(metadata={'source': '전지베이컨(칩)', 'sheet': '2023'}, page_content='sheet: 2023\\n구분: ODM\\n채널, 고객사: 풀무원\\n제품명: 전지베이컨(칩)\\n단종 여부: 해당없음\\n런칭여부: 뱅킹화\\n사용원료: 전지\\n컨셉: 풀무원 클린라벨 적용 고로케용 베이컨 칩'),\n",
       " Document(metadata={'source': '이삭 전지베이컨', 'sheet': '2023'}, page_content='sheet: 2023\\n구분: ODM\\n채널, 고객사: 이삭토스트\\n제품명: 이삭 전지베이컨\\n단종 여부: 해당없음\\n런칭여부: 뱅킹화\\n사용원료: 전지\\n컨셉: 토스트용 전지베이컨 (오뗄 제품 대체)'),\n",
       " Document(metadata={'source': '카나디안햄', 'sheet': '2023'}, page_content='sheet: 2023\\n구분: ODM\\n채널, 고객사: 도미노피자\\n제품명: 카나디안햄\\n단종 여부: 해당없음\\n런칭여부: 뱅킹화\\n사용원료: 후지, 지방\\n컨셉: 피자 토핑용 슬라이스햄 (사조오양 제품 대체)'),\n",
       " Document(metadata={'source': '양고기 스테이크토핑', 'sheet': '2023'}, page_content='sheet: 2023\\n구분: ODM\\n채널, 고객사: 도미노피자\\n제품명: 양고기 스테이크토핑\\n단종 여부: 해당없음\\n런칭여부: 뱅킹화\\n사용원료: 양고기 어깨살\\n컨셉: 양고기 어깨살에 쯔란시즈닝을 활용한 스테이크토핑 제품'),\n",
       " Document(metadata={'source': '양고기 크럼블토핑', 'sheet': '2023'}, page_content='sheet: 2023\\n구분: ODM\\n채널, 고객사: 도미노피자\\n제품명: 양고기 크럼블토핑\\n단종 여부: 해당없음\\n런칭여부: 뱅킹화\\n사용원료: 양고기 트리밍육\\n컨셉: 양고기 트리밍육에 쯔란시즈닝을 활용한 크럼블토핑 제품'),\n",
       " Document(metadata={'source': '말이어묵용 소시지', 'sheet': '2023'}, page_content='sheet: 2023\\n구분: ODM\\n채널, 고객사: 풀무원\\n제품명: 말이어묵용 소시지\\n단종 여부: 해당없음\\n런칭여부: 뱅킹화\\n사용원료: 후지, 지방\\n컨셉: 말이어묵 상품 안에 들어가는 소시지 제품'),\n",
       " Document(metadata={'source': '말이어묵용 소시지', 'sheet': '2023'}, page_content='sheet: 2023\\n구분: ODM\\n채널, 고객사: 풀무원\\n제품명: 말이어묵용 소시지\\n단종 여부: 해당없음\\n런칭여부: 뱅킹화\\n사용원료: 후지, 지방\\n컨셉: 말이어묵 상품 안에 들어가는 소시지 제품'),\n",
       " Document(metadata={'source': '말이어묵용 소시지', 'sheet': '2023'}, page_content='sheet: 2023\\n구분: ODM\\n채널, 고객사: 풀무원\\n제품명: 말이어묵용 소시지\\n단종 여부: 해당없음\\n런칭여부: 뱅킹화\\n사용원료: 후지, 지방\\n컨셉: 말이어묵 상품 안에 들어가는 소시지 제품')]"
      ]
     },
     "execution_count": 5,
     "metadata": {},
     "output_type": "execute_result"
    }
   ],
   "source": [
    "documents"
   ]
  },
  {
   "cell_type": "code",
   "execution_count": 90,
   "metadata": {},
   "outputs": [],
   "source": [
    "# # 토크나이징\n",
    "# tokenizer = tiktoken.get_encoding(\"cl100k_base\")\n",
    "\n",
    "# def tiktoken_len(text):\n",
    "#     tokens = tokenizer.encode(text)\n",
    "#     return len(tokens)"
   ]
  },
  {
   "cell_type": "code",
   "execution_count": 91,
   "metadata": {},
   "outputs": [],
   "source": [
    "# # chunking\n",
    "# text_splitter = RecursiveCharacterTextSplitter(chunk_size=100, chunk_overlap=10, length_function=tiktoken_len)\n",
    "# texts = text_splitter.split_documents(documents)"
   ]
  },
  {
   "cell_type": "code",
   "execution_count": 95,
   "metadata": {},
   "outputs": [
    {
     "name": "stderr",
     "output_type": "stream",
     "text": [
      "c:\\Users\\SUNJIN\\anaconda3\\envs\\intern\\lib\\site-packages\\huggingface_hub\\file_download.py:1132: FutureWarning: `resume_download` is deprecated and will be removed in version 1.0.0. Downloads always resume when possible. If you want to force a new download, use `force_download=True`.\n",
      "  warnings.warn(\n"
     ]
    }
   ],
   "source": [
    "# 벡터화에 사용할 모델(huggingFaceEmbeddings)\n",
    "model_name =\"jhgan/ko-sbert-nli\"\n",
    "# model_kwargs = {'device': 'cuda'} # gpu 사용\n",
    "model_kwargs = {'device': 'cpu'}\n",
    "encode_kwargs = {'normalize_embeddings': True}\n",
    "hf = HuggingFaceEmbeddings(\n",
    "    model_name=model_name,\n",
    "    model_kwargs=model_kwargs,\n",
    "    encode_kwargs=encode_kwargs\n",
    ")"
   ]
  },
  {
   "cell_type": "code",
   "execution_count": 96,
   "metadata": {},
   "outputs": [
    {
     "data": {
      "text/plain": [
       "HuggingFaceEmbeddings(client=SentenceTransformer(\n",
       "  (0): Transformer({'max_seq_length': 128, 'do_lower_case': False}) with Transformer model: BertModel \n",
       "  (1): Pooling({'word_embedding_dimension': 768, 'pooling_mode_cls_token': False, 'pooling_mode_mean_tokens': True, 'pooling_mode_max_tokens': False, 'pooling_mode_mean_sqrt_len_tokens': False, 'pooling_mode_weightedmean_tokens': False, 'pooling_mode_lasttoken': False, 'include_prompt': True})\n",
       "), model_name='jhgan/ko-sbert-nli', cache_folder=None, model_kwargs={'device': 'cpu'}, encode_kwargs={'normalize_embeddings': True}, multi_process=False, show_progress=False)"
      ]
     },
     "execution_count": 96,
     "metadata": {},
     "output_type": "execute_result"
    }
   ],
   "source": [
    "hf"
   ]
  },
  {
   "cell_type": "code",
   "execution_count": null,
   "metadata": {},
   "outputs": [],
   "source": [
    "# # # openaiEmbeddings\n",
    "# embeddings_model = OpenAIEmbeddings(model=\"text-embedding-3-small\", api_key=api_key)\n",
    "# embeddings = embeddings_model.embed_documents(documents)\n",
    "# retriever = embeddings.as_retriever(search_type='mmr',search_kwargs={'score_threshold': 0.5})"
   ]
  },
  {
   "cell_type": "markdown",
   "metadata": {},
   "source": [
    "모델"
   ]
  },
  {
   "cell_type": "code",
   "execution_count": 73,
   "metadata": {},
   "outputs": [],
   "source": [
    "# DB에 넣고 리트리버 구성\n",
    "# docsearch = Chroma.from_documents(documents, hf) # chunking 을 안하면서 texts -> documents로\n",
    "# retriever = docsearch.as_retriever(search_type=\"similarity_score_threshold\",search_kwargs={\"score_threshold\": 0.75},)"
   ]
  },
  {
   "cell_type": "code",
   "execution_count": 74,
   "metadata": {},
   "outputs": [],
   "source": [
    "openai = ChatOpenAI(model_name=\"gpt-4o-mini\",\n",
    "                    streaming=True, callbacks=[StreamingStdOutCallbackHandler()],\n",
    "                    temperature = 0,\n",
    "                    max_tokens = 500,\n",
    "                    api_key=api_key)"
   ]
  },
  {
   "cell_type": "code",
   "execution_count": 75,
   "metadata": {},
   "outputs": [],
   "source": [
    "contextualize_q_system_prompt = (\n",
    "      \"당신은 회사 제품을 잘 알고 있는 마케딩 디렉터입니다.\"\n",
    "      \"답변은 사용자가 질문한 언어와 같은 언어를 사용하세요.\"\n",
    "      \"다음 질문에 대해 주어진 문맥을 사용하여 상세하고 정확한 답변을 제공해주세요. \"\n",
    "      \"관련 문맥 부분을 참조하여 답변을 작성하세요.\\n\\n\"\n",
    "      \"{context}\"\n",
    ")\n",
    "contextualize_q_prompt = ChatPromptTemplate.from_messages(\n",
    "    [\n",
    "        (\"system\", contextualize_q_system_prompt),\n",
    "        MessagesPlaceholder(\"chat_history\"),\n",
    "        (\"human\", \"{input}\"),\n",
    "        \"{context}\",\n",
    "    ]\n",
    ")\n",
    "history_aware_retriever = create_history_aware_retriever(\n",
    "    openai, retriever, contextualize_q_prompt\n",
    ")"
   ]
  },
  {
   "cell_type": "code",
   "execution_count": 76,
   "metadata": {},
   "outputs": [],
   "source": [
    "system_prompt = (\n",
    "    \"\"\"\n",
    "    You MUST Answer in Korean.\n",
    "    당신은 회사 제품을 잘 알고 있는 신제품 개발 팀장입니다.\n",
    "    새로운 제품을 출시하기 위해 과거 신제품에 대한 정보를 모두 알고 있으며 팀원들이 특정 제품에 대해 물어볼 때 모두 대답할 수 있어야합니다.\n",
    "    물어본 특성에 해당하는 제품은 하나도 빠짐없이 대답해줘야 합니다.\n",
    "\n",
    "    예를 들어, \"2023년도에 나온 제품들 중 단종된 제품을 전부 말해줘\" 라고 물어본다면,\n",
    "\n",
    "    2023년도에 기획된 제품 30건 중 단종 된 제품은 총 \"\"가지가 있습니다.\n",
    "    \"\" , \"\", \"\" 입니다.\n",
    "    다른 제품의 경우 특이사항이 없으나 \"\"과 \"\" 의 경우 시즌 한정제품으로 조기 단종하였습니다.\n",
    "\n",
    "    다음 제품들을 CSV 형식으로 제공하도록 하겠습니다.\n",
    "\n",
    "    |구분|채널,고객사|제품명|단종 여부|런칭여부|사용원료|컨셉|\n",
    "    |---|---|---|---|---|---|---|\n",
    "\n",
    "    이런식으로 CSV 형식으로도 제공해줘야 해\n",
    "\n",
    "    {context}\"\"\"\n",
    ")\n",
    "qa_prompt = ChatPromptTemplate.from_messages(\n",
    "    [\n",
    "        (\"system\", system_prompt),\n",
    "        MessagesPlaceholder(\"chat_history\"),\n",
    "        (\"human\", \"{input}\"),\n",
    "        \"{context}\",\n",
    "    ]\n",
    ")\n",
    "question_answer_chain = create_stuff_documents_chain(openai, qa_prompt)\n",
    "\n",
    "rag_chain = create_retrieval_chain(history_aware_retriever, question_answer_chain)"
   ]
  },
  {
   "cell_type": "code",
   "execution_count": 77,
   "metadata": {},
   "outputs": [],
   "source": [
    "store = {}\n",
    "\n",
    "\n",
    "def get_session_history(session_id: str) -> BaseChatMessageHistory:\n",
    "    if session_id not in store:\n",
    "        store[session_id] = ChatMessageHistory()\n",
    "    return store[session_id]\n",
    "\n",
    "\n",
    "conversational_rag_chain = RunnableWithMessageHistory(\n",
    "    rag_chain,\n",
    "    get_session_history,\n",
    "    input_messages_key=\"input\",\n",
    "    history_messages_key=\"chat_history\",\n",
    "    output_messages_key=\"answer\",\n",
    ")"
   ]
  },
  {
   "cell_type": "code",
   "execution_count": 78,
   "metadata": {},
   "outputs": [
    {
     "name": "stderr",
     "output_type": "stream",
     "text": [
      "c:\\Users\\SUNJIN\\anaconda3\\envs\\intern\\lib\\site-packages\\langchain_core\\vectorstores\\base.py:796: UserWarning: No relevant docs were retrieved using the relevance score threshold 0.75\n",
      "  warnings.warn(\n"
     ]
    },
    {
     "name": "stdout",
     "output_type": "stream",
     "text": [
      "2023년도에 기획된 제품 30건 중 단종 된 제품은 총 0가지가 있습니다. \"0\", \"0\", \"0\" 입니다. 다른 제품의 경우 특이사항이 없으나 \"0\"과 \"0\" 의 경우 시즌 한정제품으로 조기 단종하였습니다."
     ]
    },
    {
     "data": {
      "text/plain": [
       "[]"
      ]
     },
     "execution_count": 78,
     "metadata": {},
     "output_type": "execute_result"
    }
   ],
   "source": [
    "conversational_rag_chain.invoke(\n",
    "    {\"input\": \"2023년도에 나온 제품들 중 단종된 제품 이름을 전부 말해줘\"},\n",
    "    config={\"configurable\": {\"session_id\": \"abc123\"}},\n",
    ")"
   ]
  }
 ],
 "metadata": {
  "kernelspec": {
   "display_name": "intern",
   "language": "python",
   "name": "python3"
  },
  "language_info": {
   "codemirror_mode": {
    "name": "ipython",
    "version": 3
   },
   "file_extension": ".py",
   "mimetype": "text/x-python",
   "name": "python",
   "nbconvert_exporter": "python",
   "pygments_lexer": "ipython3",
   "version": "3.8.19"
  }
 },
 "nbformat": 4,
 "nbformat_minor": 2
}
