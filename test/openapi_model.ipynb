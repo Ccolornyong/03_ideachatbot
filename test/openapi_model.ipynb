{
 "cells": [
  {
   "cell_type": "code",
   "execution_count": null,
   "metadata": {},
   "outputs": [],
   "source": [
    "# ! pip install langchain_openai\n",
    "# ! pip install load_dotenv\n",
    "# ! pip install tiktoken\n",
    "# ! pip install langchain_huggingface\n",
    "# ! pip install openpyxl\n",
    "# ! pip install chromadb\n",
    "# ! pip install rank_bm25"
   ]
  },
  {
   "cell_type": "code",
   "execution_count": 22,
   "metadata": {},
   "outputs": [],
   "source": [
    "from dotenv import load_dotenv\n",
    "from langchain_core.prompts import PromptTemplate\n",
    "from langchain.chat_models import ChatOpenAI\n",
    "import os\n",
    "\n",
    "import torch\n",
    "from transformers import AutoTokenizer, AutoModelForCausalLM\n",
    "import tiktoken\n",
    "from langchain.text_splitter import RecursiveCharacterTextSplitter\n",
    "from langchain_community.vectorstores import Chroma\n",
    "from langchain.embeddings import HuggingFaceEmbeddings\n",
    "from langchain_core.prompts import ChatPromptTemplate, MessagesPlaceholder\n",
    "from langchain.chains import create_history_aware_retriever, create_retrieval_chain\n",
    "from langchain.chains.combine_documents import create_stuff_documents_chain\n",
    "from langchain_core.chat_history import BaseChatMessageHistory\n",
    "from langchain_community.chat_message_histories import ChatMessageHistory\n",
    "from langchain_core.runnables.history import RunnableWithMessageHistory\n",
    "from transformers import AutoTokenizer, AutoModelForCausalLM\n",
    "from langchain_core.prompt_values import ChatPromptValue\n",
    "from langchain_core.runnables import RunnablePassthrough\n",
    "from langchain_huggingface import HuggingFaceEndpoint\n",
    "from langchain.callbacks.streaming_stdout import StreamingStdOutCallbackHandler\n",
    "from langchain.chains import RetrievalQA\n",
    "from dotenv import load_dotenv\n",
    "from langchain_openai import OpenAIEmbeddings\n",
    "from openai import OpenAI\n",
    "import chromadb\n",
    "\n",
    "from openpyxl import load_workbook\n",
    "from typing import Dict, List, Optional\n",
    "from langchain.docstore.document import Document\n",
    "from langchain.document_loaders.base import BaseLoader"
   ]
  },
  {
   "cell_type": "code",
   "execution_count": 7,
   "metadata": {},
   "outputs": [],
   "source": [
    "load_dotenv()\n",
    "api_key = os.environ.get('Openai_key')"
   ]
  },
  {
   "cell_type": "markdown",
   "metadata": {},
   "source": [
    "사용할 데이터 불러오기"
   ]
  },
  {
   "cell_type": "code",
   "execution_count": 8,
   "metadata": {},
   "outputs": [],
   "source": [
    "# class XLSXLoader(BaseLoader):\n",
    "#     \"\"\"Loads an XLSX file into a list of documents from specified sheets.\n",
    "\n",
    "#     Each document represents one row of the XLSX file. Every row is converted into a\n",
    "#     key/value pair and outputted to a new line in the document's page_content, including\n",
    "#     the sheet name.\n",
    "\n",
    "#     The source for each document loaded from xlsx is set to the value of the\n",
    "#     'file_path' argument for all documents by default.\n",
    "#     You can override this by setting the 'source_column' argument to the\n",
    "#     name of a column in the XLSX file.\n",
    "#     The source of each document will then be set to the value of the column\n",
    "#     with the name specified in 'source_column'.\n",
    "\n",
    "#     Output Example:\n",
    "#         .. code-block:: txt\n",
    "\n",
    "#             sheet: SheetName\n",
    "#             column1: value1\n",
    "#             column2: None\n",
    "#             column3: value3\n",
    "#     \"\"\"\n",
    "\n",
    "#     docs = []\n",
    "\n",
    "#     def __init__(\n",
    "#             self,\n",
    "#             file_path: str,\n",
    "#             source_column: Optional[str] = None,\n",
    "#             encoding: Optional[str] = None,\n",
    "#             exclude_columns: Optional[List[str]] = None,  # 열을 제외할 목록\n",
    "#             target_sheets: Optional[List[str]] = None  # 불러올 시트 목록\n",
    "#     ):\n",
    "#         self.file_path = file_path\n",
    "#         self.source_column = source_column\n",
    "#         self.encoding = encoding\n",
    "#         self.exclude_columns = exclude_columns if exclude_columns else []\n",
    "#         self.target_sheets = target_sheets if target_sheets else []\n",
    "\n",
    "#     def load(self) -> List[Document]:\n",
    "#         docs = []\n",
    "\n",
    "#         wb = load_workbook(filename=self.file_path, read_only=True, data_only=True)\n",
    "\n",
    "#         # 특정 시트를 처리\n",
    "#         sheets_to_process = self.target_sheets if self.target_sheets else wb.sheetnames[1:]\n",
    "\n",
    "\n",
    "#         for sheet_name in sheets_to_process:\n",
    "#             if sheet_name in wb.sheetnames:\n",
    "#                 ws = wb[sheet_name]\n",
    "#                 headers = [cell.value for cell in ws[1]]\n",
    "#                 headers = [header if header is not None else '' for header in headers]  # None을 빈 문자열로 변환\n",
    "\n",
    "#                 # 이전 행의 값을 저장하기 위한 리스트\n",
    "#                 previous_row = [None] * len(headers)\n",
    "\n",
    "#                 for i, row in enumerate(ws.iter_rows(min_row=2)):\n",
    "#                     row_values = [cell.value for cell in row]\n",
    "\n",
    "#                     # None 값을 이전 행의 값으로 대체, 제외할 열을 처리\n",
    "#                     for j, (value, header) in enumerate(zip(row_values, headers)):\n",
    "#                         if value is None and header not in self.exclude_columns:\n",
    "#                             row_values[j] = previous_row[j]\n",
    "\n",
    "#                         # '단종 여부' 열 처리\n",
    "#                         if header == '단종 여부' and value is None:\n",
    "#                             row_values[j] = '해당없음'\n",
    "\n",
    "#                         # '구분' 열 처리\n",
    "#                         if header == '구분':\n",
    "#                             if value is None:\n",
    "#                                 row_values[j] = previous_row[j]\n",
    "#                             if 'ODM' in (row_values[j] or ''):\n",
    "#                                 row_values[j] = 'ODM'\n",
    "#                             else:\n",
    "#                                 row_values[j] = 'OEM'\n",
    "\n",
    "#                         # '런칭여부' 열 처리\n",
    "#                         if header == '런칭여부':\n",
    "#                             if value is None:\n",
    "#                                 row_values[j] = previous_row[j]\n",
    "#                             # else 문을 제거하여 중복되는 처리를 피함\n",
    "\n",
    "#                     row_dict = dict(zip(headers, row_values))\n",
    "\n",
    "\n",
    "#                     # # 시트 이름과 None 값을 처리하여 'None' 문자열로 변환\n",
    "#                     # content_lines = [f\"sheet: {sheet_name}\"]  # 시트 이름 추가\n",
    "#                     # content_lines.extend(\n",
    "#                     #     f\"{k.strip()}: {str(v) if v is not None else 'None'}\"\n",
    "#                     #     for k, v in row_dict.items()\n",
    "#                     #     if k.strip() != ''  # 빈 헤더 무시\n",
    "#                     # )\n",
    "#                     # content = \"\\n\".join(content_lines)\n",
    "\n",
    "#                     if self.source_column is not None:\n",
    "#                         source = row_dict.get(self.source_column, 'None')  # source_column이 없는 경우 'None' 사용\n",
    "#                     else:\n",
    "#                         source = self.file_path\n",
    "\n",
    "#                     lines = f\"\"\"제품의 이름은 {row_dict['제품명']}입니다. 해당 제품의 채널, 고객사는 {row_dict['채널, 고객사']}이며,단종 여부는 {row_dict['단종 여부']}입니다. 제품의 런칭여부는 {row_dict['런칭여부']}입니다. 제품은 {row_dict['구분']}으로 구분되어있으며, 제품의 사용원료는 {row_dict['사용원료']}입니다. 제품의 컨셉은 {row_dict['컨셉']}입니다.\"\"\"\n",
    "\n",
    "\n",
    "#                     metadata = {\"source\": source, \"sheet\": sheet_name}\n",
    "#                     row_dict = Document(page_content=lines, metadata=metadata)\n",
    "#                     docs.append(row_dict)\n",
    "\n",
    "#                     # 현재 행의 값을 이전 행으로 저장\n",
    "#                     previous_row = row_values\n",
    "\n",
    "#         return docs\n"
   ]
  },
  {
   "cell_type": "code",
   "execution_count": 9,
   "metadata": {},
   "outputs": [],
   "source": [
    "# class XLSXLoader(BaseLoader):\n",
    "#     \"\"\"Loads an XLSX file into a list of documents from specified sheets.\n",
    "\n",
    "#     Each document represents one row of the XLSX file. Every row is converted into a\n",
    "#     key/value pair and outputted to a new line in the document's page_content, including\n",
    "#     the sheet name.\n",
    "\n",
    "#     The source for each document loaded from xlsx is set to the value of the\n",
    "#     'file_path' argument for all documents by default.\n",
    "#     You can override this by setting the 'source_column' argument to the\n",
    "#     name of a column in the XLSX file.\n",
    "#     The source of each document will then be set to the value of the column\n",
    "#     with the name specified in 'source_column'.\n",
    "\n",
    "#     Output Example:\n",
    "#         .. code-block:: txt\n",
    "\n",
    "#             sheet: SheetName\n",
    "#             column1: value1\n",
    "#             column2: None\n",
    "#             column3: value3\n",
    "#     \"\"\"\n",
    "\n",
    "#     docs = []\n",
    "\n",
    "#     def __init__(\n",
    "#             self,\n",
    "#             file_path: str,\n",
    "#             source_column: Optional[str] = None,\n",
    "#             encoding: Optional[str] = None,\n",
    "#             exclude_columns: Optional[List[str]] = None,  # 열을 제외할 목록\n",
    "#             target_sheets: Optional[List[str]] = None  # 불러올 시트 목록\n",
    "#     ):\n",
    "#         self.file_path = file_path\n",
    "#         self.source_column = source_column\n",
    "#         self.encoding = encoding\n",
    "#         self.exclude_columns = exclude_columns if exclude_columns else []\n",
    "#         self.target_sheets = target_sheets if target_sheets else []\n",
    "\n",
    "#     def load(self) -> List[Document]:\n",
    "#         docs = []\n",
    "\n",
    "#         wb = load_workbook(filename=self.file_path, read_only=True, data_only=True)\n",
    "\n",
    "#         # 특정 시트를 처리\n",
    "#         sheets_to_process = self.target_sheets if self.target_sheets else wb.sheetnames[1:]\n",
    "\n",
    "\n",
    "#         for sheet_name in sheets_to_process:\n",
    "#             if sheet_name in wb.sheetnames:\n",
    "#                 ws = wb[sheet_name]\n",
    "#                 headers = [cell.value for cell in ws[1]]\n",
    "#                 headers = [header if header is not None else '' for header in headers]  # None을 빈 문자열로 변환\n",
    "\n",
    "#                 # 이전 행의 값을 저장하기 위한 리스트\n",
    "#                 previous_row = [None] * len(headers)\n",
    "\n",
    "#                 for i, row in enumerate(ws.iter_rows(min_row=2)):\n",
    "#                     row_values = [cell.value for cell in row]\n",
    "\n",
    "#                     # None 값을 이전 행의 값으로 대체, 제외할 열을 처리\n",
    "#                     for j, (value, header) in enumerate(zip(row_values, headers)):\n",
    "#                         if value is None and header not in self.exclude_columns:\n",
    "#                             row_values[j] = previous_row[j]\n",
    "\n",
    "#                         # '단종 여부' 열 처리\n",
    "#                         if header == '단종 여부' and value is None:\n",
    "#                             row_values[j] = '미단종'\n",
    "\n",
    "#                         # '구분' 열 처리\n",
    "#                         if header == '구분':\n",
    "#                             if value is None:\n",
    "#                                 row_values[j] = previous_row[j]\n",
    "#                             if 'ODM' in (row_values[j] or ''):\n",
    "#                                 row_values[j] = 'ODM'\n",
    "#                             else:\n",
    "#                                 row_values[j] = 'OEM'\n",
    "\n",
    "#                         # '런칭여부' 열 처리\n",
    "#                         if header == '런칭여부':\n",
    "#                             if value is None:\n",
    "#                                 row_values[j] = previous_row[j]\n",
    "#                             # else 문을 제거하여 중복되는 처리를 피함\n",
    "\n",
    "#                     row_dict = dict(zip(headers, row_values))\n",
    "\n",
    "\n",
    "#                     # # 시트 이름과 None 값을 처리하여 'None' 문자열로 변환\n",
    "#                     # content_lines = [f\"sheet: {sheet_name}\"]  # 시트 이름 추가\n",
    "#                     # content_lines.extend(\n",
    "#                     #     f\"{k.strip()}: {str(v) if v is not None else 'None'}\"\n",
    "#                     #     for k, v in row_dict.items()\n",
    "#                     #     if k.strip() != ''  # 빈 헤더 무시\n",
    "#                     # )\n",
    "#                     # content = \"\\n\".join(content_lines)\n",
    "\n",
    "#                     # if self.source_column is not None:\n",
    "#                     #     source = row_dict.get(self.source_column, 'None')  # source_column이 없는 경우 'None' 사용\n",
    "#                     # else:\n",
    "#                     #     source = self.file_path\n",
    "\n",
    "#                     # lines = f\"\"\"제품의 이름은 {row_dict['제품명']}입니다. 해당 제품의 채널, 고객사는 {row_dict['채널, 고객사']}이며,단종 여부는 {row_dict['단종 여부']}입니다. 제품의 런칭여부는 {row_dict['런칭여부']}입니다. 제품은 {row_dict['구분']}으로 구분되어있으며, 제품의 사용원료는 {row_dict['사용원료']}입니다. 제품의 컨셉은 {row_dict['컨셉']}입니다.\"\"\"\n",
    "\n",
    "\n",
    "#                     # metadata = {\"source\": source, \"sheet\": sheet_name}\n",
    "#                     # row_dict = Document(page_content=lines, metadata=metadata)\n",
    "#                     docs.append(row_dict)\n",
    "\n",
    "#                     # 현재 행의 값을 이전 행으로 저장\n",
    "#                     previous_row = row_values\n",
    "\n",
    "#         return docs\n"
   ]
  },
  {
   "cell_type": "code",
   "execution_count": 10,
   "metadata": {},
   "outputs": [],
   "source": [
    "class XLSXLoader(BaseLoader):\n",
    "    \"\"\"Loads an XLSX file into a list of documents from specified sheets.\n",
    "\n",
    "    Each document represents one row of the XLSX file. Every row is converted into a\n",
    "    key/value pair and outputted to a new line in the document's page_content, including\n",
    "    the sheet name.\n",
    "\n",
    "    The source for each document loaded from xlsx is set to the value of the\n",
    "    'file_path' argument for all documents by default.\n",
    "    You can override this by setting the 'source_column' argument to the\n",
    "    name of a column in the XLSX file.\n",
    "    The source of each document will then be set to the value of the column\n",
    "    with the name specified in 'source_column'.\n",
    "\n",
    "    Output Example:\n",
    "        .. code-block:: txt\n",
    "\n",
    "            sheet: SheetName\n",
    "            column1: value1\n",
    "            column2: None\n",
    "            column3: value3\n",
    "    \"\"\"\n",
    "\n",
    "    docs = []\n",
    "\n",
    "    def __init__(\n",
    "            self,\n",
    "            file_path: str,\n",
    "            source_column: Optional[str] = None,\n",
    "            encoding: Optional[str] = None,\n",
    "            exclude_columns: Optional[List[str]] = None,  # 열을 제외할 목록\n",
    "            target_sheets: Optional[List[str]] = None  # 불러올 시트 목록\n",
    "    ):\n",
    "        self.file_path = file_path\n",
    "        self.source_column = source_column\n",
    "        self.encoding = encoding\n",
    "        self.exclude_columns = exclude_columns if exclude_columns else []\n",
    "        self.target_sheets = target_sheets if target_sheets else []\n",
    "\n",
    "    def load(self) -> List[Document]:\n",
    "        docs = []\n",
    "\n",
    "        wb = load_workbook(filename=self.file_path, read_only=True, data_only=True)\n",
    "\n",
    "        # 특정 시트를 처리\n",
    "        sheets_to_process = self.target_sheets if self.target_sheets else wb.sheetnames[1:]\n",
    "\n",
    "\n",
    "        for sheet_name in sheets_to_process:\n",
    "            if sheet_name in wb.sheetnames:\n",
    "                ws = wb[sheet_name]\n",
    "                headers = [cell.value for cell in ws[1]]\n",
    "                headers = [header if header is not None else '' for header in headers]  # None을 빈 문자열로 변환\n",
    "\n",
    "                # 이전 행의 값을 저장하기 위한 리스트\n",
    "                previous_row = [None] * len(headers)\n",
    "\n",
    "                for i, row in enumerate(ws.iter_rows(min_row=2)):\n",
    "                    row_values = [cell.value for cell in row]\n",
    "\n",
    "                    # None 값을 이전 행의 값으로 대체, 제외할 열을 처리\n",
    "                    for j, (value, header) in enumerate(zip(row_values, headers)):\n",
    "                        if value is None and header not in self.exclude_columns:\n",
    "                            row_values[j] = previous_row[j]\n",
    "\n",
    "                        # '단종 여부' 열 처리\n",
    "                        if header == '단종 여부' and value is None:\n",
    "                            row_values[j] = '해당없음'\n",
    "\n",
    "                        # '구분' 열 처리\n",
    "                        if header == '구분':\n",
    "                            if value is None:\n",
    "                                row_values[j] = previous_row[j]\n",
    "                            if 'ODM' in (row_values[j] or ''):\n",
    "                                row_values[j] = 'ODM'\n",
    "                            else:\n",
    "                                row_values[j] = 'OEM'\n",
    "\n",
    "                        # '런칭여부' 열 처리\n",
    "                        if header == '런칭여부':\n",
    "                            if value is None:\n",
    "                                row_values[j] = previous_row[j]\n",
    "                            # else 문을 제거하여 중복되는 처리를 피함\n",
    "\n",
    "                    row_dict = dict(zip(headers, row_values))\n",
    "\n",
    "\n",
    "                    # 시트 이름과 None 값을 처리하여 'None' 문자열로 변환\n",
    "                    content_lines = [f\"sheet: {sheet_name}\"]  # 시트 이름 추가\n",
    "                    content_lines.extend(\n",
    "                        f\"{k.strip()}: {str(v) if v is not None else 'None'}\"\n",
    "                        for k, v in row_dict.items()\n",
    "                        if k.strip() != ''  # 빈 헤더 무시\n",
    "                    )\n",
    "                    content = \"\\n\".join(content_lines)\n",
    "\n",
    "                    if self.source_column is not None:\n",
    "                        source = row_dict.get(self.source_column, 'None')  # source_column이 없는 경우 'None' 사용\n",
    "                    else:\n",
    "                        source = self.file_path\n",
    "\n",
    "                    # lines = f\"\"\"제품의 이름은 {row_dict['제품명']}입니다. 해당 제품의 채널, 고객사는 {row_dict['채널, 고객사']}이며,단종 여부는 {row_dict['단종 여부']}입니다. 제품의 런칭여부는 {row_dict['런칭여부']}입니다. 제품은 {row_dict['구분']}으로 구분되어있으며, 제품의 사용원료는 {row_dict['사용원료']}입니다. 제품의 컨셉은 {row_dict['컨셉']}입니다.\"\"\"\n",
    "\n",
    "\n",
    "                    metadata = {\"source\": source, \"sheet\": sheet_name}\n",
    "                    row_dict = Document(page_content=content, metadata=metadata)\n",
    "                    docs.append(row_dict)\n",
    "\n",
    "                    # 현재 행의 값을 이전 행으로 저장\n",
    "                    previous_row = row_values\n",
    "\n",
    "        return docs"
   ]
  },
  {
   "cell_type": "code",
   "execution_count": 11,
   "metadata": {},
   "outputs": [],
   "source": [
    "# 파일 불러오기\n",
    "loader = XLSXLoader(\n",
    "    file_path=\"C:/Users/SUNJIN/Documents/인턴/03_ideachatbot/data/년도별 신제품 리스트_냉장-240425.xlsx\",\n",
    "    source_column=\"제품명\",\n",
    "    exclude_columns=[\"단종 여부\"],  # 제외할 열 지정\n",
    "    target_sheets=[\"2023\"]  # 불러올 시트 지정\n",
    ")\n",
    "\n",
    "docs = loader.load()"
   ]
  },
  {
   "cell_type": "code",
   "execution_count": 12,
   "metadata": {},
   "outputs": [
    {
     "data": {
      "text/plain": [
       "[Document(metadata={'source': '멜팅피스 핫도그용소시지(오리지널)', 'sheet': '2023'}, page_content='sheet: 2023\\n구분: OEM\\n채널, 고객사: 외식자재\\n제품명: 멜팅피스 핫도그용소시지(오리지널)\\n단종 여부: 해당없음\\n런칭여부: 런칭\\n사용원료: 후지, 지방\\n컨셉: 고기씹는 거친 식감과 육즙이 풍부한 핫도그용 소시지(멜팅피스)'),\n",
       " Document(metadata={'source': '멜팅피스 핫도그용소시지(치즈)', 'sheet': '2023'}, page_content='sheet: 2023\\n구분: OEM\\n채널, 고객사: 외식자재\\n제품명: 멜팅피스 핫도그용소시지(치즈)\\n단종 여부: 해당없음\\n런칭여부: 런칭\\n사용원료: 후지, 지방\\n컨셉: 육 식감이 살아있고 다즙한 콘도그용 치즈 소시지'),\n",
       " Document(metadata={'source': '멜팅피스 핫도그용소시지(치즈&할라피뇨)', 'sheet': '2023'}, page_content='sheet: 2023\\n구분: OEM\\n채널, 고객사: 외식자재\\n제품명: 멜팅피스 핫도그용소시지(치즈&할라피뇨)\\n단종 여부: 해당없음\\n런칭여부: 런칭\\n사용원료: 후지, 지방\\n컨셉: 육 식감이 살아있고 다즙한 콘도그용 치즈&할라피뇨 소시지'),\n",
       " Document(metadata={'source': '초당옥수수핫도그용소시지', 'sheet': '2023'}, page_content='sheet: 2023\\n구분: OEM\\n채널, 고객사: 학교급식\\n제품명: 초당옥수수핫도그용소시지\\n단종 여부: 해당없음\\n런칭여부: 런칭\\n사용원료: 후지, 지방\\n컨셉: 육즙이 풍부한 학교급식용(아질산/MSG 제외) 미니 소시지(#21콜라겐 케이싱, 20g) '),\n",
       " Document(metadata={'source': '트리플슬라이스소시지', 'sheet': '2023'}, page_content='sheet: 2023\\n구분: OEM\\n채널, 고객사: 학교급식\\n제품명: 트리플슬라이스소시지\\n단종 여부: 해당없음\\n런칭여부: 런칭\\n사용원료: 후지, 지방\\n컨셉: 모듬슬라이스소시지 리뉴얼(갈비맛슬라이스소시지, 할라피뇨슬라이스소시지 신규 개발/적용)'),\n",
       " Document(metadata={'source': '본레스햄 슬라이스', 'sheet': '2023'}, page_content='sheet: 2023\\n구분: OEM\\n채널, 고객사: 외식자재\\n제품명: 본레스햄 슬라이스\\n단종 여부: 해당없음\\n런칭여부: 런칭\\n사용원료: 목살\\n컨셉: 잠봉햄 타겟 자사 제조 가능 공정 적용 육괴 입자를 살린 재구성 원형 슬라이스햄\\n본래의 제품 컨셉을 유지한 제품 개발이 필요한 상황\\n원물 규격화 할 수 있는 리테이너 및 슬라이스 중량 편차를 줄일 수 있는 스캐너 설비 보완 필요힘'),\n",
       " Document(metadata={'source': '돈후지 불고기 2종', 'sheet': '2023'}, page_content='sheet: 2023\\n구분: OEM\\n채널, 고객사: 후레시스\\n제품명: 돈후지 불고기 2종\\n단종 여부: 해당없음\\n런칭여부: 뱅킹화\\n사용원료: 후지\\n컨셉: 돈후지를 활용한 2가지 종류의 도시락용 비가열 불고기 제품 (간장/고추장)'),\n",
       " Document(metadata={'source': '돈목살 양념육 2종', 'sheet': '2023'}, page_content='sheet: 2023\\n구분: OEM\\n채널, 고객사: 후레시스\\n제품명: 돈목살 양념육 2종\\n단종 여부: 해당없음\\n런칭여부: 뱅킹화\\n사용원료: 목살\\n컨셉: 돈목살을 활용한 2가지 종류의 도시락용 비가열 양념육 제품 (간장/고추장)\\n고객사 지속 샘플링 중'),\n",
       " Document(metadata={'source': '레몬파슬리 포크소시지', 'sheet': '2023'}, page_content='sheet: 2023\\n구분: OEM\\n채널, 고객사: 외식자재\\n제품명: 레몬파슬리 포크소시지\\n단종 여부: 해당없음\\n런칭여부: 뱅킹화\\n사용원료: 후지, 지방\\n컨셉: 일본 롱셀러 제품 레몬향이 나는 레몬파슬리 소시지 (일본 제품 대비 염미 감소, 육즙 풍부한 식감 요청)\\n런칭 지연 품목'),\n",
       " Document(metadata={'source': '레몬파슬리 닭가슴살소시지', 'sheet': '2023'}, page_content='sheet: 2023\\n구분: OEM\\n채널, 고객사: 후레시스\\n제품명: 레몬파슬리 닭가슴살소시지\\n단종 여부: 해당없음\\n런칭여부: 뱅킹화\\n사용원료: 종계 가슴살\\n컨셉: 일본 롱셀러 제품 레몬향이 나는 닭가슴살활용 레몬파슬리 소시지\\n런칭 지연 품목'),\n",
       " Document(metadata={'source': '매콤돼지구이', 'sheet': '2023'}, page_content='sheet: 2023\\n구분: OEM\\n채널, 고객사: 후레시스\\n제품명: 매콤돼지구이\\n단종 여부: 해당없음\\n런칭여부: 뱅킹화\\n사용원료: 후지\\n컨셉: 매콤한 소스에 버무려진 다이스된 돼지구이 컨셉의 도시락 반찬\\n이마트 24 제안 최근 스펙 만족 피드백'),\n",
       " Document(metadata={'source': '빅킬바사소시지', 'sheet': '2023'}, page_content='sheet: 2023\\n구분: ODM\\n채널, 고객사: GS25\\n제품명: 빅킬바사소시지\\n단종 여부: 단종\\n런칭여부: 런칭\\n사용원료: 후지, 지방\\n컨셉: 돈장 활용 말발굽형태의 냉장 소시지 제품'),\n",
       " Document(metadata={'source': '육즙가득핫도그용소시지', 'sheet': '2023'}, page_content='sheet: 2023\\n구분: ODM\\n채널, 고객사: 신세계푸드\\n제품명: 육즙가득핫도그용소시지\\n단종 여부: 해당없음\\n런칭여부: 런칭\\n사용원료: 후지, 지방\\n컨셉: 핫도그 대리점용 냉장 소시지 제품'),\n",
       " Document(metadata={'source': '큐브찹스테이크', 'sheet': '2023'}, page_content='sheet: 2023\\n구분: ODM\\n채널, 고객사: 군납\\n제품명: 큐브찹스테이크\\n단종 여부: 단종\\n런칭여부: 런칭\\n사용원료: 후지\\n컨셉: 외주업체(에프와이지) 생산하는 후지 다이스하여 소스 버무린 토핑용 제품 '),\n",
       " Document(metadata={'source': 'SF런천미트슬라이스', 'sheet': '2023'}, page_content='sheet: 2023\\n구분: ODM\\n채널, 고객사: 신세계푸드\\n제품명: SF런천미트슬라이스\\n단종 여부: 해당없음\\n런칭여부: 런칭\\n사용원료: 후지, 지방, MDCM\\n컨셉: 진팸 형태의 런천미트 형태의 저가 햄'),\n",
       " Document(metadata={'source': '한우언양불고기', 'sheet': '2023'}, page_content='sheet: 2023\\n구분: ODM\\n채널, 고객사: 반올림피자샵\\n제품명: 한우언양불고기\\n단종 여부: 해당없음\\n런칭여부: 런칭\\n사용원료: 한우\\n컨셉: 한우 목살을 활용한 피자 토핑용 제품'),\n",
       " Document(metadata={'source': '큐브찹스테이크', 'sheet': '2023'}, page_content='sheet: 2023\\n구분: ODM\\n채널, 고객사: 삼성웰스토리\\n제품명: 큐브찹스테이크\\n단종 여부: 해당없음\\n런칭여부: 런칭\\n사용원료: 후지\\n컨셉: 후지 다이스하여 소스 버무린 토핑용 제품 '),\n",
       " Document(metadata={'source': '육즙팡팡미니치즈비엔나', 'sheet': '2023'}, page_content='sheet: 2023\\n구분: ODM\\n채널, 고객사: GS25\\n제품명: 육즙팡팡미니치즈비엔나\\n단종 여부: 해당없음\\n런칭여부: 런칭\\n사용원료: 후지, 지방\\n컨셉: 롯데햄 미니비엔나 벤치마킹 제품으로 9개 2단 형태 비엔나 제품'),\n",
       " Document(metadata={'source': '필리치즈스테이크', 'sheet': '2023'}, page_content='sheet: 2023\\n구분: ODM\\n채널, 고객사: 신세계푸드\\n제품명: 필리치즈스테이크\\n단종 여부: 해당없음\\n런칭여부: 런칭\\n사용원료: 알전각\\n컨셉: 스타벅스 필라프치즈샌드위치 맛 리뉴얼 제품'),\n",
       " Document(metadata={'source': 'SF부대찌개모듬', 'sheet': '2023'}, page_content='sheet: 2023\\n구분: ODM\\n채널, 고객사: 신세계푸드\\n제품명: SF부대찌개모듬\\n단종 여부: 해당없음\\n런칭여부: 런칭\\n사용원료: 후지, 지방\\n컨셉: 롱후랑크어슷, 미트햄, SF런천미트슬라이스 제품 넣은 부대찌개 모듬햄 '),\n",
       " Document(metadata={'source': '찌개용어슷후랑크[부대찌개용]', 'sheet': '2023'}, page_content='sheet: 2023\\n구분: ODM\\n채널, 고객사: GS25\\n제품명: 찌개용어슷후랑크[부대찌개용]\\n단종 여부: 단종\\n런칭여부: 런칭\\n사용원료: 종계 다리살, 지방\\n컨셉: 혜자도시락 부대찌개볶음 도시락 구성품'),\n",
       " Document(metadata={'source': '선진카나디안햄[부대찌개용]', 'sheet': '2023'}, page_content='sheet: 2023\\n구분: ODM\\n채널, 고객사: GS25\\n제품명: 선진카나디안햄[부대찌개용]\\n단종 여부: 단종\\n런칭여부: 런칭\\n사용원료: 후지, 지방\\n컨셉: 혜자도시락 부대찌개볶음 도시락 구성품'),\n",
       " Document(metadata={'source': '진팸[부대찌개용]', 'sheet': '2023'}, page_content='sheet: 2023\\n구분: ODM\\n채널, 고객사: GS25\\n제품명: 진팸[부대찌개용]\\n단종 여부: 단종\\n런칭여부: 런칭\\n사용원료: 후지, 지방\\n컨셉: 혜자도시락 부대찌개볶음 도시락 구성품'),\n",
       " Document(metadata={'source': '선진 허브갈릭닭가슴살소시지', 'sheet': '2023'}, page_content='sheet: 2023\\n구분: ODM\\n채널, 고객사: 제이브로(군납)\\n제품명: 선진 허브갈릭닭가슴살소시지\\n단종 여부: 해당없음\\n런칭여부: 런칭\\n사용원료: 종계 가슴살\\n컨셉: 계육 함량 80% 이상의 퍽퍽하지 않은 부드럽고 탄력있는 닭가슴살 소시지'),\n",
       " Document(metadata={'source': '유어스)바베큐폭립 -오리지널 바베큐맛-', 'sheet': '2023'}, page_content='sheet: 2023\\n구분: ODM\\n채널, 고객사: GS25\\n제품명: 유어스)바베큐폭립 -오리지널 바베큐맛-\\n단종 여부: 단종\\n런칭여부: 런칭\\n사용원료: 로인립\\n컨셉: 편의점 안주/간식용 스모키한 소스를 적용한 로인립\\n시즌 한정 제품으로 조기 단종'),\n",
       " Document(metadata={'source': '유어스)정품소시지', 'sheet': '2023'}, page_content='sheet: 2023\\n구분: ODM\\n채널, 고객사: GS25\\n제품명: 유어스)정품소시지\\n단종 여부: 해당없음\\n런칭여부: 런칭\\n사용원료: 후지, 지방\\n컨셉: 제주산 원료 및 돈장을 활용한 프리미엄 컨셉의 후크걸이 소시지'),\n",
       " Document(metadata={'source': '유어스)바베큐폭립 -매콤한맛-', 'sheet': '2023'}, page_content='sheet: 2023\\n구분: ODM\\n채널, 고객사: GS25\\n제품명: 유어스)바베큐폭립 -매콤한맛-\\n단종 여부: 단종\\n런칭여부: 런칭\\n사용원료: 로인립\\n컨셉: 편의점 안주/간식용 매운맛 소스를 적용한 로인립\\n시즌 한정 제품으로 조기 단종'),\n",
       " Document(metadata={'source': '죠쏘용소시지', 'sheet': '2023'}, page_content='sheet: 2023\\n구분: ODM\\n채널, 고객사: GS25\\n제품명: 죠쏘용소시지\\n단종 여부: 해당없음\\n런칭여부: 런칭\\n사용원료: 후지, 지방\\n컨셉: 떡볶이 국물의 맛에 어우러지는 칼집이 난 연한 훈연이 들어간 미니소시지'),\n",
       " Document(metadata={'source': '라구소스토핑', 'sheet': '2023'}, page_content='sheet: 2023\\n구분: ODM\\n채널, 고객사: 풀무원\\n제품명: 라구소스토핑\\n단종 여부: 해당없음\\n런칭여부: 런칭\\n사용원료: 후지\\n컨셉: 볼로네제 풍미의 소스가 혼합된 냉동 피자용 돈육 토핑'),\n",
       " Document(metadata={'source': '롱후랑크소시지(소포장)', 'sheet': '2023'}, page_content='sheet: 2023\\n구분: ODM\\n채널, 고객사: 신세계푸드\\n제품명: 롱후랑크소시지(소포장)\\n단종 여부: 단종\\n런칭여부: 런칭\\n사용원료: 후지, 지방, MDCM\\n컨셉: 부대찌개 밀키트용 소포장 롱후랑크소시지'),\n",
       " Document(metadata={'source': '소시지슬라이스토핑', 'sheet': '2023'}, page_content='sheet: 2023\\n구분: ODM\\n채널, 고객사: 피자헛\\n제품명: 소시지슬라이스토핑\\n단종 여부: 단종\\n런칭여부: 런칭\\n사용원료: 후지, 지방\\n컨셉: 피자 토핑용 슬라이스 소시지(칵테일 소시지 규격 변경)'),\n",
       " Document(metadata={'source': '그릴에 구워먹는 치킨토핑 [500]', 'sheet': '2023'}, page_content='sheet: 2023\\n구분: ODM\\n채널, 고객사: 도미노피자\\n제품명: 그릴에 구워먹는 치킨토핑 [500]\\n단종 여부: 해당없음\\n런칭여부: 런칭\\n사용원료: 육계 가슴살\\n컨셉: 가존 그릴에 구워먹는 치킨토핑 포장단량 변경 (1kg → 500g) 제품'),\n",
       " Document(metadata={'source': '본레스햄 슬라이스', 'sheet': '2023'}, page_content='sheet: 2023\\n구분: ODM\\n채널, 고객사: 성심당\\n제품명: 본레스햄 슬라이스\\n단종 여부: 단종\\n런칭여부: 런칭\\n사용원료: 목살\\n컨셉: 육괴 입자를 살린 재구성 원형 슬라이스햄'),\n",
       " Document(metadata={'source': '롱후랑크소시지30', 'sheet': '2023'}, page_content='sheet: 2023\\n구분: ODM\\n채널, 고객사: GS25\\n제품명: 롱후랑크소시지30\\n단종 여부: 단종\\n런칭여부: 런칭\\n사용원료: 후지, 지방, MDCM\\n컨셉: 냉동 콘도그 상품 안에 들어가는 가성비 타입의 소시지 제품'),\n",
       " Document(metadata={'source': '리얼프라이스 칼집후랑크소시지', 'sheet': '2023'}, page_content='sheet: 2023\\n구분: ODM\\n채널, 고객사: GS슈퍼마켓\\n제품명: 리얼프라이스 칼집후랑크소시지\\n단종 여부: 해당없음\\n런칭여부: 런칭\\n사용원료: 후지, 지방\\n컨셉: 리얼프라이스 칼집프랑크소시지 extension 제품 (포장단량 및 방식 변경)'),\n",
       " Document(metadata={'source': '핫치킨토핑E', 'sheet': '2023'}, page_content='sheet: 2023\\n구분: ODM\\n채널, 고객사: 그린식품\\n제품명: 핫치킨토핑E\\n단종 여부: 해당없음\\n런칭여부: 런칭\\n사용원료: 육계 가슴살 (브라질산)\\n컨셉: 수입산 육계 가슴살을 원료육으로 매운맛이 강한 치킨베이크용 토핑 제품'),\n",
       " Document(metadata={'source': '육즙가득 선진후랑크', 'sheet': '2023'}, page_content='sheet: 2023\\n구분: ODM\\n채널, 고객사: 디엔비\\n제품명: 육즙가득 선진후랑크\\n단종 여부: 해당없음\\n런칭여부: 런칭\\n사용원료: 후지, 지방\\n컨셉: 빼빼롱소시지 extension 제품'),\n",
       " Document(metadata={'source': '페퍼로니-I', 'sheet': '2023'}, page_content='sheet: 2023\\n구분: ODM\\n채널, 고객사: 이삭토스트\\n제품명: 페퍼로니-I\\n단종 여부: 해당없음\\n런칭여부: 런칭\\n사용원료: 후지, 지방\\n컨셉: 토스트 토핑용 3mm 두께의 페파로니'),\n",
       " Document(metadata={'source': '선진 닭가슴살슬라이스햄', 'sheet': '2023'}, page_content='sheet: 2023\\n구분: ODM\\n채널, 고객사: 군납\\n제품명: 선진 닭가슴살슬라이스햄\\n단종 여부: 해당없음\\n런칭여부: 런칭\\n사용원료: 육계가슴살\\n컨셉: 군납용 트레이 포장된 닭가슴살 슬라이스햄'),\n",
       " Document(metadata={'source': '페퍼맛소시지15(냉장)', 'sheet': '2023'}, page_content='sheet: 2023\\n구분: ODM\\n채널, 고객사: GS25\\n제품명: 페퍼맛소시지15(냉장)\\n단종 여부: 단종\\n런칭여부: 런칭\\n사용원료: 후지, 지방\\n컨셉: 주먹밥 도시락용 소중량 소시지'),\n",
       " Document(metadata={'source': '육즙팡팡클래식소시지', 'sheet': '2023'}, page_content='sheet: 2023\\n구분: ODM\\n채널, 고객사: GS25\\n제품명: 육즙팡팡클래식소시지\\n단종 여부: 해당없음\\n런칭여부: 런칭\\n사용원료: 후지, 지방\\n컨셉: 프리미엄 소시지를 활용한 핫도그용 소시지'),\n",
       " Document(metadata={'source': '회오리소시지바', 'sheet': '2023'}, page_content='sheet: 2023\\n구분: ODM\\n채널, 고객사: 이마트24\\n제품명: 회오리소시지바\\n단종 여부: 해당없음\\n런칭여부: 런칭\\n사용원료: 후지, 지방\\n컨셉: 토네이도 칼집이 적용된 차별화된 외관의 꼬치소시지'),\n",
       " Document(metadata={'source': '훈제닭다리스테이크(장각)', 'sheet': '2023'}, page_content='sheet: 2023\\n구분: ODM\\n채널, 고객사: 군납\\n제품명: 훈제닭다리스테이크(장각)\\n단종 여부: 해당없음\\n런칭여부: 런칭\\n사용원료: 장각\\n컨셉: 선진스모크치킨장각 외주 OEM 이관 제품 (주원산오리)'),\n",
       " Document(metadata={'source': '한돈 양념갈비', 'sheet': '2023'}, page_content='sheet: 2023\\n구분: ODM\\n채널, 고객사: 담꾹\\n제품명: 한돈 양념갈비\\n단종 여부: 해당없음\\n런칭여부: 런칭\\n사용원료: 갈비\\n컨셉: 담꾹 메뉴시연회용 갈비찜 요청(돈육, 우육) / LA 돈갈비를 사용한 한돈 양념갈비 확정'),\n",
       " Document(metadata={'source': '일품 소갈비찜', 'sheet': '2023'}, page_content='sheet: 2023\\n구분: ODM\\n채널, 고객사: 담꾹\\n제품명: 일품 소갈비찜\\n단종 여부: 단종\\n런칭여부: 런칭\\n사용원료: 소갈비\\n컨셉: 담꾹 메뉴시연회용 갈비찜 요청(돈육, 우육) / 미국산 갈비를 사용한 명절 한정 일품 소갈비찜 확정'),\n",
       " Document(metadata={'source': '쿠팡PB 토네이도 칼집 소시지', 'sheet': '2023'}, page_content='sheet: 2023\\n구분: ODM\\n채널, 고객사: 쿠팡\\n제품명: 쿠팡PB 토네이도 칼집 소시지\\n단종 여부: 해당없음\\n런칭여부: 런칭\\n사용원료: 후지, 지방\\n컨셉: 쿠팡 신규 메뉴용 토네이도소시지 포장 입수량 증량 샘플 요청'),\n",
       " Document(metadata={'source': '쫀도그용후랑크', 'sheet': '2023'}, page_content='sheet: 2023\\n구분: ODM\\n채널, 고객사: 그린식품\\n제품명: 쫀도그용후랑크\\n단종 여부: 해당없음\\n런칭여부: 런칭\\n사용원료: 후지, 지방\\n컨셉: 핫도그용 소시지 형태의 제품'),\n",
       " Document(metadata={'source': 'The 맛있는 베이컨', 'sheet': '2023'}, page_content='sheet: 2023\\n구분: ODM\\n채널, 고객사: 온라인\\n제품명: The 맛있는 베이컨\\n단종 여부: 해당없음\\n런칭여부: 런칭\\n사용원료: 전지\\n컨셉: 온라인 채널 판매용 전지베이컨'),\n",
       " Document(metadata={'source': 'The 맛있는 후랑크', 'sheet': '2023'}, page_content='sheet: 2023\\n구분: ODM\\n채널, 고객사: 온라인\\n제품명: The 맛있는 후랑크\\n단종 여부: 해당없음\\n런칭여부: 런칭\\n사용원료: 후지, 지방\\n컨셉: 온라인 채널 판매용 후랑크'),\n",
       " Document(metadata={'source': '이탈리안페퍼소시지', 'sheet': '2023'}, page_content='sheet: 2023\\n구분: ODM\\n채널, 고객사: 도미노피자\\n제품명: 이탈리안페퍼소시지\\n단종 여부: 해당없음\\n런칭여부: 런칭\\n사용원료: 후지, 지방\\n컨셉: 이탈리안 허브 시즈닝을 적용한 슬라이스 소시지'),\n",
       " Document(metadata={'source': '한솥토네이도소시지 페퍼', 'sheet': '2023'}, page_content='sheet: 2023\\n구분: ODM\\n채널, 고객사: 한솥도시락\\n제품명: 한솥토네이도소시지 페퍼\\n단종 여부: 해당없음\\n런칭여부: 뱅킹화\\n사용원료: 후지, 지방\\n컨셉: 토네이도 형태의 페퍼맛 소시지 제품'),\n",
       " Document(metadata={'source': '한솥토네이도소시지 청양고추', 'sheet': '2023'}, page_content='sheet: 2023\\n구분: ODM\\n채널, 고객사: 한솥도시락\\n제품명: 한솥토네이도소시지 청양고추\\n단종 여부: 해당없음\\n런칭여부: 뱅킹화\\n사용원료: 후지, 지방\\n컨셉: 도시락 반찬용 매운 청양고추를 넣은 토네이이도 소시지'),\n",
       " Document(metadata={'source': '살시챠토핑', 'sheet': '2023'}, page_content='sheet: 2023\\n구분: ODM\\n채널, 고객사: 신세계푸드\\n제품명: 살시챠토핑\\n단종 여부: 해당없음\\n런칭여부: 뱅킹화\\n사용원료: 후지, 지방\\n컨셉: 이태리 살시차 소시지 맛의 피자 토핑용 제품'),\n",
       " Document(metadata={'source': '동물복지 한솥토네이도소시지', 'sheet': '2023'}, page_content='sheet: 2023\\n구분: ODM\\n채널, 고객사: 한솥도시락\\n제품명: 동물복지 한솥토네이도소시지\\n단종 여부: 해당없음\\n런칭여부: 뱅킹화\\n사용원료: 후지, 지방\\n컨셉: 동물복지원료 사용한 한솥토네이도 소시지 제품'),\n",
       " Document(metadata={'source': '전지베이컨(칩)', 'sheet': '2023'}, page_content='sheet: 2023\\n구분: ODM\\n채널, 고객사: 풀무원\\n제품명: 전지베이컨(칩)\\n단종 여부: 해당없음\\n런칭여부: 뱅킹화\\n사용원료: 전지\\n컨셉: 풀무원 클린라벨 적용 고로케용 베이컨 칩'),\n",
       " Document(metadata={'source': '이삭 전지베이컨', 'sheet': '2023'}, page_content='sheet: 2023\\n구분: ODM\\n채널, 고객사: 이삭토스트\\n제품명: 이삭 전지베이컨\\n단종 여부: 해당없음\\n런칭여부: 뱅킹화\\n사용원료: 전지\\n컨셉: 토스트용 전지베이컨 (오뗄 제품 대체)'),\n",
       " Document(metadata={'source': '카나디안햄', 'sheet': '2023'}, page_content='sheet: 2023\\n구분: ODM\\n채널, 고객사: 도미노피자\\n제품명: 카나디안햄\\n단종 여부: 해당없음\\n런칭여부: 뱅킹화\\n사용원료: 후지, 지방\\n컨셉: 피자 토핑용 슬라이스햄 (사조오양 제품 대체)'),\n",
       " Document(metadata={'source': '양고기 스테이크토핑', 'sheet': '2023'}, page_content='sheet: 2023\\n구분: ODM\\n채널, 고객사: 도미노피자\\n제품명: 양고기 스테이크토핑\\n단종 여부: 해당없음\\n런칭여부: 뱅킹화\\n사용원료: 양고기 어깨살\\n컨셉: 양고기 어깨살에 쯔란시즈닝을 활용한 스테이크토핑 제품'),\n",
       " Document(metadata={'source': '양고기 크럼블토핑', 'sheet': '2023'}, page_content='sheet: 2023\\n구분: ODM\\n채널, 고객사: 도미노피자\\n제품명: 양고기 크럼블토핑\\n단종 여부: 해당없음\\n런칭여부: 뱅킹화\\n사용원료: 양고기 트리밍육\\n컨셉: 양고기 트리밍육에 쯔란시즈닝을 활용한 크럼블토핑 제품'),\n",
       " Document(metadata={'source': '말이어묵용 소시지', 'sheet': '2023'}, page_content='sheet: 2023\\n구분: ODM\\n채널, 고객사: 풀무원\\n제품명: 말이어묵용 소시지\\n단종 여부: 해당없음\\n런칭여부: 뱅킹화\\n사용원료: 후지, 지방\\n컨셉: 말이어묵 상품 안에 들어가는 소시지 제품'),\n",
       " Document(metadata={'source': '말이어묵용 소시지', 'sheet': '2023'}, page_content='sheet: 2023\\n구분: ODM\\n채널, 고객사: 풀무원\\n제품명: 말이어묵용 소시지\\n단종 여부: 해당없음\\n런칭여부: 뱅킹화\\n사용원료: 후지, 지방\\n컨셉: 말이어묵 상품 안에 들어가는 소시지 제품'),\n",
       " Document(metadata={'source': '말이어묵용 소시지', 'sheet': '2023'}, page_content='sheet: 2023\\n구분: ODM\\n채널, 고객사: 풀무원\\n제품명: 말이어묵용 소시지\\n단종 여부: 해당없음\\n런칭여부: 뱅킹화\\n사용원료: 후지, 지방\\n컨셉: 말이어묵 상품 안에 들어가는 소시지 제품')]"
      ]
     },
     "execution_count": 12,
     "metadata": {},
     "output_type": "execute_result"
    }
   ],
   "source": [
    "docs"
   ]
  },
  {
   "cell_type": "code",
   "execution_count": 13,
   "metadata": {},
   "outputs": [],
   "source": [
    "# documents = []\n",
    "\n",
    "# for doc in docs:\n",
    "#     line = f\"\"\"{doc['제품명']}입니다. 해당 제품의 채널, 고객사는 {doc['채널, 고객사']}이며,단종 여부는 {doc['단종 여부']}입니다. 제품의 런칭여부는 {doc['런칭여부']}입니다. 제품은 {doc['구분']}으로 구분되어있으며, 제품의 사용원료는 {doc['사용원료']}입니다. 제품의 컨셉은 {doc['컨셉']}입니다.\"\"\"\n",
    "#     documents.append(line)"
   ]
  },
  {
   "cell_type": "code",
   "execution_count": 14,
   "metadata": {},
   "outputs": [],
   "source": [
    "# documents"
   ]
  },
  {
   "cell_type": "code",
   "execution_count": 15,
   "metadata": {},
   "outputs": [],
   "source": [
    "# # 토크나이징\n",
    "# tokenizer = tiktoken.get_encoding(\"cl100k_base\")\n",
    "\n",
    "# def tiktoken_len(text):\n",
    "#     tokens = tokenizer.encode(text)\n",
    "#     return len(tokens)"
   ]
  },
  {
   "cell_type": "code",
   "execution_count": 16,
   "metadata": {},
   "outputs": [],
   "source": [
    "# # chunking\n",
    "# text_splitter = RecursiveCharacterTextSplitter(chunk_size=100, chunk_overlap=10, length_function=tiktoken_len)\n",
    "# texts = text_splitter.split_documents(docs)"
   ]
  },
  {
   "cell_type": "code",
   "execution_count": 17,
   "metadata": {},
   "outputs": [],
   "source": [
    "# # 벡터화에 사용할 모델(huggingFaceEmbeddings)\n",
    "# model_name =\"jhgan/ko-sbert-nli\"\n",
    "# # model_kwargs = {'device': 'cuda'} # gpu 사용\n",
    "# model_kwargs = {'device': 'cpu'}\n",
    "# encode_kwargs = {'normalize_embeddings': True}\n",
    "# hf = HuggingFaceEmbeddings(\n",
    "#     model_name=model_name,\n",
    "#     model_kwargs=model_kwargs,\n",
    "#     encode_kwargs=encode_kwargs\n",
    "# )"
   ]
  },
  {
   "cell_type": "code",
   "execution_count": 29,
   "metadata": {},
   "outputs": [],
   "source": [
    "# # # openaiEmbeddings\n",
    "embeddings_model = OpenAIEmbeddings(model=\"text-embedding-3-small\", api_key=api_key)\n",
    "\n",
    "# db = Chroma.from_documents(\n",
    "#     docs, \n",
    "#     embeddings_model,\n",
    "#     collection_name = 'history',\n",
    "#     persist_directory = './db/chromadb_new',\n",
    "#     collection_metadata = {'hnsw:space': 'cosine'}, # l2 is the default\n",
    "# )\n",
    "\n",
    "# db"
   ]
  },
  {
   "cell_type": "markdown",
   "metadata": {},
   "source": [
    "모델"
   ]
  },
  {
   "cell_type": "code",
   "execution_count": 47,
   "metadata": {},
   "outputs": [],
   "source": [
    "# DB에 넣고 리트리버 구성\n",
    "# docsearch = Chroma.from_documents(docs, hf) # chunking 을 안하면서 texts -> documents로\n",
    "# retriever = db.as_retriever(    search_type='mmr',\n",
    "#     search_kwargs={'k': 10, 'lambda_mult': 0.15})"
   ]
  },
  {
   "cell_type": "code",
   "execution_count": 95,
   "metadata": {},
   "outputs": [],
   "source": [
    "db = Chroma(persist_directory=\"C:/Users/SUNJIN/Documents/인턴/03_ideachatbot/test/db/chromadb_new\",\n",
    "            embedding_function = embeddings_model,\n",
    "            collection_name = 'history',\n",
    "            collection_metadata = {'hnsw:space': 'cosine'}, # l2 is the default)\n",
    ")            "
   ]
  },
  {
   "cell_type": "code",
   "execution_count": 74,
   "metadata": {},
   "outputs": [
    {
     "data": {
      "text/plain": [
       "<langchain_community.vectorstores.chroma.Chroma at 0x2cfc7d87370>"
      ]
     },
     "execution_count": 74,
     "metadata": {},
     "output_type": "execute_result"
    }
   ],
   "source": [
    "db"
   ]
  },
  {
   "cell_type": "code",
   "execution_count": 96,
   "metadata": {},
   "outputs": [],
   "source": [
    "retriever = db.as_retriever(\n",
    "    search_type='similarity_score_threshold',\n",
    "    search_kwargs={'score_threshold': 0.3,'k': 20}\n",
    ")"
   ]
  },
  {
   "cell_type": "code",
   "execution_count": 97,
   "metadata": {},
   "outputs": [
    {
     "name": "stdout",
     "output_type": "stream",
     "text": [
      "문서의 개수: 1\n"
     ]
    },
    {
     "data": {
      "text/plain": [
       "[Document(metadata={'sheet': '2023', 'source': '돈후지 불고기 2종'}, page_content='sheet: 2023\\n구분: OEM\\n채널, 고객사: 후레시스\\n제품명: 돈후지 불고기 2종\\n단종 여부: 해당없음\\n런칭여부: 뱅킹화\\n사용원료: 후지\\n컨셉: 돈후지를 활용한 2가지 종류의 도시락용 비가열 불고기 제품 (간장/고추장)')]"
      ]
     },
     "execution_count": 97,
     "metadata": {},
     "output_type": "execute_result"
    }
   ],
   "source": [
    "d = retriever.get_relevant_documents(\"후지\")\n",
    "print(f\"문서의 개수: {len(d)}\")\n",
    "d"
   ]
  },
  {
   "cell_type": "code",
   "execution_count": null,
   "metadata": {},
   "outputs": [],
   "source": [
    "# from langchain.retrievers import BM25Retriever\n",
    "\n",
    "# BM25_retriever = BM25Retriever.from_texts(docs, k = 5)\n",
    "# Chroma_retriever = db.as_retriever(\n",
    "#     search_type='similarity_score_threshold',\n",
    "#     search_kwargs={'score_threshold': 0.4}\n",
    "# )"
   ]
  },
  {
   "cell_type": "code",
   "execution_count": null,
   "metadata": {},
   "outputs": [],
   "source": [
    "# from langchain.retrievers import EnsembleRetriever"
   ]
  },
  {
   "cell_type": "code",
   "execution_count": null,
   "metadata": {},
   "outputs": [],
   "source": [
    "# ensemble_retriever = EnsembleRetriever(\n",
    "#                     retrievers = [BM25_retriever,Chroma_retriever]\n",
    "#                     , weight = {0.5,0.5})"
   ]
  },
  {
   "cell_type": "code",
   "execution_count": null,
   "metadata": {},
   "outputs": [],
   "source": [
    "# docs = ensemble_retriever.invoke(\"닭으로 만들어진 제품은?\")\n",
    "# docs"
   ]
  },
  {
   "cell_type": "code",
   "execution_count": 231,
   "metadata": {},
   "outputs": [],
   "source": [
    "# llm = ChatOpenAI(base_url = \"http://sionic.chat:8001/v1\",\n",
    "#     api_key = \"934c4bbc-c384-4bea-af82-1450d7f8128d\",\n",
    "#     model=\"xionic-ko-llama-3-70b\",\n",
    "#     temperature=0.75)"
   ]
  },
  {
   "cell_type": "code",
   "execution_count": 98,
   "metadata": {},
   "outputs": [],
   "source": [
    "llm = ChatOpenAI(model_name=\"gpt-4o-mini\",\n",
    "                    streaming=True, callbacks=[StreamingStdOutCallbackHandler()],\n",
    "                    temperature = 0.75,\n",
    "                    max_tokens = 500,\n",
    "                    api_key=api_key)"
   ]
  },
  {
   "cell_type": "code",
   "execution_count": 99,
   "metadata": {},
   "outputs": [],
   "source": [
    "contextualize_q_system_prompt = (\n",
    "      \"당신은 회사 제품을 잘 알고 있는 마케딩 디렉터입니다.\"\n",
    "      \"답변은 사용자가 질문한 언어와 같은 언어를 사용하세요.\"\n",
    "      \"다음 질문에 대해 주어진 문맥을 사용하여 상세하고 정확한 답변을 제공해주세요. \"\n",
    "      \"관련 문맥 부분을 참조하여 답변을 작성하세요.\\n\\n\"\n",
    "      \"{context}\"\n",
    ")\n",
    "contextualize_q_prompt = ChatPromptTemplate.from_messages(\n",
    "    [\n",
    "        (\"system\", contextualize_q_system_prompt),\n",
    "        MessagesPlaceholder(\"chat_history\"),\n",
    "        (\"human\", \"{input}\"),\n",
    "        \"{context}\",\n",
    "    ]\n",
    ")\n",
    "history_aware_retriever = create_history_aware_retriever(\n",
    "    llm, retriever, contextualize_q_prompt\n",
    ")"
   ]
  },
  {
   "cell_type": "code",
   "execution_count": 109,
   "metadata": {},
   "outputs": [],
   "source": [
    "system_prompt = (\n",
    "    \"\"\"\n",
    "    You MUST Answer in Korean.\n",
    "    당신은 회사 제품을 잘 알고 있는 신제품 개발 팀장입니다.\n",
    "    새로운 제품을 출시하기 위해 과거 신제품에 대한 정보를 모두 알고 있으며 팀원들이 특정 제품에 대해 물어볼 때 모두 대답할 수 있어야합니다.\n",
    "    대답에 전체 제품이 아닌 몇가지를 보여준다는걸 꼭 명시해야 합니다.\n",
    "\n",
    "    어떤 경우에도 {context} 에 있는 제품을 참고하여 답을 출력해야합니다.\n",
    "    검색 결과를 낼 수 없다면 {context}에 있는 제품 중 첫번째 제품을 출력해야하고,\n",
    "    다른 검색을 유도하는 \"추가로 정보를 알고 싶으시다면 ~에 대해 검색해주세요\"와 같은 말은 하지 말아야합니다.\n",
    "    대답 후 엑셀 시트도 함께 출력해야하며 엑셀 시트는 {context} 에 있는 문서를 포함해야 합니다.\n",
    "    \n",
    "    예를 들어, \"학교에 납품하는 소시지 제품이 뭐가 있어?\" 라고 물어본다면, 아래와 같이 답장하여야 합니다.\n",
    "\n",
    "    납품처가 급식용으로 되어 있는 소시지 제품 몇가지를 보여드리겠습니다.\n",
    "\n",
    "    첫번째 제품은 2023년도에 출시된 \"초당옥수수핫도그용소시지\" 입니다.\n",
    "    해당 제품은 육즙이 풍부한 학교 급식용 미니 소시지로 아질산과 MSG를 제외하여 아이들도 걱정없이 먹을 수 있는 제품입니다.\n",
    "    2023년도에 출시되어 아직까지 단종된 바 없으며 후지, 지방을 사용해 만들었습니다.\n",
    "    \n",
    "    두번째 제품은 2023년도에 출시된 \"트리플슬라이스소시지\" 입니다.\n",
    "    해당 제품은 과거 단종된 제품인 \"모듬슬라이스소시지\"를 리뉴얼한 제품으로 갈비맛슬라이스소시지, 할라피뇨슬라이스소시지 신규 개발에 적용할 예정입니다.\n",
    "    2023년도에 출시되어 아직까지 단종된 바 없으며 후지, 지방을 사용해 만들었습니다.\n",
    "\n",
    "    이 밖에도 급식용 소시지 제품이 더 있을 수 있으며,\n",
    "    더 다양한 제품의 정보를 알고 싶으시다면 소시지 제품에 대해 검색해주세요.\n",
    "\n",
    "    | 구분  | 채널, 고객사   | 제품명                     | 단종 여부 | 런칭여부   | 사용원료           | 컨셉                                             |\n",
    "    |-------|---------------|---------------------------|-----------|-----------|-------------------|--------------------------------------------------|\n",
    "  \n",
    "    표를 엑셀에 그대로 복사하시면 엑셀 형식으로 적용됩니다.\n",
    "\n",
    "    예를 들어, \"닭가슴살 제품이 뭐가 있어?\" 라고 물어본다면, 아래와 같이 답장하여야 합니다.\n",
    "\n",
    "    닭가슴살 제품 몇가지를 보여드리겠습니다.\n",
    "\n",
    "    첫번째 제품은 2023년도에 출시된 \"선진 닭가슴살슬라이스햄\"입니다.\n",
    "    해당 제품은 군납용 트레이 포장된 닭가슴살 슬라이스햄으로 육계가슴살을 사용하여 만들어졌습니다.\n",
    "    2023년도에 출시되어 아직까지 단종된 바 없으며 군납 채널을 통해 판매되고 있습니다. \n",
    "    \n",
    "    두번째 제품은 2023년도에 출시된 \"레몬파슬리 닭가슴살소시지\"입니다. \n",
    "    해당 제품은 일본 롱셀러 제품 레몬향이 나는 닭가슴살활용 레몬파슬리 소시지로 종계 가슴살을 사용하여 만들어졌습니다. \n",
    "    2023년도에 출시되어 아직까지 단종된 바 없으며 후레시스 채널을 통해 판매되고 있습니다. \n",
    "    \n",
    "    세번째 제품은 2023년도에 출시된 \"선진 허브갈릭닭가슴살소시지\"입니다. \n",
    "    해당 제품은 계육 함량 80% 이상의 퍽퍽하지 않은 부드럽고 탄력있는 닭가슴살 소시지로 종계 가슴살을 사용하여 만들어졌습니다. \n",
    "    2023년도에 출시되어 아직까지 단종된 바 없으며 제이브로 채널을 통해 판매되고 있습니다. \n",
    "    \n",
    "    이 밖에 더 많은 닭가슴살 제품이 있으며,\n",
    "    더 다양한 제품 정보를 알고 싶으시다면 사용원료 종계 제품에 대해 검색해주세요.\n",
    "\n",
    "    | 구분  | 채널, 고객사   | 제품명                     | 단종 여부 | 런칭여부   | 사용원료           | 컨셉                                             |\n",
    "    |-------|---------------|---------------------------|-----------|-----------|-------------------|--------------------------------------------------|\n",
    "   \n",
    "    표를 엑셀에 그대로 복사하시면 엑셀 형식으로 적용됩니다.\n",
    "\n",
    "\n",
    "    검색 결과를 낼 수 없다면 {context}에 있는 제품 중 첫번째 제품을 출력해야 합니다.\n",
    "\n",
    "    예를 들어, 파스타와 관련된 {context} 를 찾을 수 없지만 \"파스타 관련 제품이 뭐가 있어?\" 라고 물어본다면, 아래와 같이 답장하여야 합니다.\n",
    "\n",
    "    회사 제품 중 파스타는 없지만 파스타와 관련 있는 제품들을 보여드리겠습니다.\n",
    "\n",
    "    첫번째 제품은 2023년도에 출시된 \"라구소스토핑\" 입니다.\n",
    "    해당 제품은 볼로네제 풍미의 소스가 혼합된 냉동 피자용 돈육 토핑으로 후지를 사용하여 만들어졌습니다.\n",
    "    2023년도에 출시되어 아직까지 단종된 바 없으며 풀무원에 유통되고 있습니다.\n",
    "\n",
    "    파스타 소스로 많이 이용하는 라구 소스의 일종인 볼로네제를 활용했다는 점에서 파스타와 관련된 제품으로 검색되었습니다.\n",
    "\n",
    "    두번째 제품은 2023년도에 출시된 \"큐브찹스테이크\" 입니다.\n",
    "    해당 제품은 외주업체(에프와이지)가 생산하는 후지를 다이스하여 소스를 버무린 토핑용 제품으로 후지를 사용하여 만들어졌습니다.\n",
    "    2023년도에 출시되어 현재는 단종이 되었으며 군납용으로 제작되었었습니다.\n",
    "\n",
    "    파스타와 함께 양식으로 분류된다는 점에서 파스타와 관련된 제품으로 검색되었습니다.\n",
    "\n",
    "    | 구분  | 채널, 고객사   | 제품명                     | 단종 여부 | 런칭여부   | 사용원료           | 컨셉                                             |\n",
    "    |-------|---------------|---------------------------|-----------|-----------|-------------------|--------------------------------------------------|\n",
    "   \n",
    "    표를 엑셀에 그대로 복사하시면 엑셀 형식으로 적용됩니다.\n",
    "\n",
    "\n",
    "    예를 들어, 떡볶이와 관련된 {context} 를 찾을 수 없지만 \"떡볶이 관련 제품이 뭐가 있어?\" 라고 물어본다면, 아래와 같이 답장하여야 합니다.\n",
    "\n",
    "    현재는 떡볶이 제품이 없지만, 매콤한 소스에 버무려진 제품들이 있습니다. \n",
    "    \n",
    "    첫번째 제품은 2023년도에 출시된 \"매콤돼지구이\" 입니다. \n",
    "    해당 제품은 후지를 사용하여 만들어진 매콤한 소스에 버무려진 다이스된 돼지구이 컨셉의 도시락 반찬입니다. \n",
    "    2023년도에 출시되어 아직까지 단종된 바 없으며 이마트 24 제안 최근 스펙 만족 피드백이 있습니다. \n",
    "    \n",
    "    두번째 제품은 2023년도에 출시된 \"유어스)바베큐폭립 -매콤한맛-\" 입니다. \n",
    "    해당 제품은 로인립을 사용하여 만들어진 편의점 안주/간식용 매운맛 소스를 적용한 로인립입니다. \n",
    "    2023년도에 출시되어 시즌 한정 제품으로 조기 단종이 되었습니다. \n",
    "    \n",
    "    이 밖에 더 많은 매콤한 소스 제품이 있으며, 추가로 떡볶이 관련 제품 정보를 알고 싶으시다면 소스 제품에 대해 검색해주세요.\n",
    "\n",
    "    관련 {context}가 아예 나오지 않으면 아래와 같이 답장하여야 합니다.\n",
    "    예를 들어, \"발렌타인데이를 맞이하여 출시한 제품을 알려줘\" 라고 물어본다면, 아래와 같이 답장하여야 합니다.\n",
    "    현재는 찾는 조건에 해당하는 제품이 없습니다. 다른 제품을 검색해주세요.\n",
    "\n",
    "    이용자가 검색 용도로 LLM을 사용할 수도 있지만 신메뉴에 대한 아이디어를 얻기 위해 사용하는 경우도 존재합니다.\n",
    "    제품 검색을 위한 사용이 아니라고 판단 될 경우 대화를 나누고 관련 지식을 제공하는데 초점을 맞춰야합니다.\n",
    "\n",
    "    예를 들어, \"발렌타인데이를 맞이해서 신메뉴를 만들고 싶은데 추천해줘\" 라고 물어본다면, \n",
    "    회사가 육가공품을 제조하는 회사임을 고려하여 아래와 같이 답장하여야합니다.\n",
    "    발렌타인데이는 발렌티노의 축일에서 유래한 기념일로 사랑하는 사람에게 초콜릿을 나눠주는 풍습이 있습니다.\n",
    "    따라서, 초콜릿과 같은 달달한 간식 메뉴를 추천합니다.\n",
    "    제품명은 \"러블리치즈햄토스트\"로 식빵안에 치즈와 햄 그리고 딸기잼을 넣은 토스트입니다.\n",
    "    채널, 고객사는 편의점 또는 학교로 발렌타인데이를 맞이하여 납품하면 좋은 반응을 얻을 수 있을 것입니다. \n",
    "\n",
    "    예를 들어, \"다이어트용 제품 어떤게 있어?\" 라고 물어본다면,\n",
    "    다이어트용으로는 닭가슴살이나 닭소세지 같은 닭을 사용한 제품이 인기가 많습니다.\n",
    "    닭은 저지방 고단백 식품으로 다이어트에 적합하여 냉동 닭가슴살이나 조리된 제품을 쉽게 찾을 수 있으며,\n",
    "    저지방 소고기의 경우 지방이 적은 부위인 안심이나 등심을 활용할 경우 다이어트에 도움이 될 수 있습니다.\n",
    "\n",
    "    {context}\n",
    "    \n",
    "    이건 사용자의 질문입니다. {input}\n",
    "    \"\"\"\n",
    ")\n",
    "qa_prompt = ChatPromptTemplate.from_messages(\n",
    "    [\n",
    "        (\"system\", system_prompt),\n",
    "        MessagesPlaceholder(\"chat_history\"),\n",
    "        (\"human\", \"{input}\"),\n",
    "        \"{context}\",\n",
    "    ]\n",
    ")\n",
    "question_answer_chain = create_stuff_documents_chain(llm, qa_prompt)\n",
    "\n",
    "rag_chain = create_retrieval_chain(history_aware_retriever, question_answer_chain)"
   ]
  },
  {
   "cell_type": "code",
   "execution_count": 110,
   "metadata": {},
   "outputs": [],
   "source": [
    "store = {}\n",
    "\n",
    "\n",
    "def get_session_history(session_id: str) -> BaseChatMessageHistory:\n",
    "    if session_id not in store:\n",
    "        store[session_id] = ChatMessageHistory()\n",
    "    return store[session_id]\n",
    "\n",
    "\n",
    "conversational_rag_chain = RunnableWithMessageHistory(\n",
    "    rag_chain,\n",
    "    get_session_history,\n",
    "    input_messages_key=\"input\",\n",
    "    history_messages_key=\"chat_history\",\n",
    "    output_messages_key=\"answer\",\n",
    ")"
   ]
  },
  {
   "cell_type": "code",
   "execution_count": 111,
   "metadata": {},
   "outputs": [
    {
     "name": "stdout",
     "output_type": "stream",
     "text": [
      "돼지로 만든 제품 몇 가지를 보여드리겠습니다.\n",
      "\n",
      "첫 번째 제품은 2023년도에 출시된 \"매콤돼지구이\"입니다. 해당 제품은 후지를 사용하여 만들어진 매콤한 소스에 버무려진 다이스된 돼지구이 컨셉의 도시락 반찬입니다. 2023년도에 출시되어 아직까지 단종된 바 없으며 이마트 24 제안 최근 스펙 만족 피드백이 있습니다.\n",
      "\n",
      "두 번째 제품은 2023년도에 출시된 \"돈후지 불고기 2종\"입니다. 해당 제품은 돈후지를 활용한 2가지 종류의 도시락용 비가열 불고기 제품(간장/고추장)으로, 2023년도에 출시되어 아직까지 단종된 바 없습니다.\n",
      "\n",
      "세 번째 제품은 2023년도에 출시된 \"유어스)정품소시지\"입니다. 이 제품은 제주산 원료 및 돈장을 활용한 프리미엄 컨셉의 후크걸이 소시지로, 2023년도에 출시되어 아직까지 단종된 바 없습니다.\n",
      "\n",
      "이 밖에도 돼지로 만든 제품이 더 있을 수 있으며,\n",
      "더 다양한 제품 정보를 알고 싶으시다면 사용원료인 후지 제품에 대해 검색해주세요.\n",
      "\n",
      "| 구분  | 채널, 고객사   | 제품명                     | 단종 여부 | 런칭여부   | 사용원료           | 컨셉                                             |\n",
      "|-------|---------------|---------------------------|-----------|-----------|-------------------|--------------------------------------------------|\n",
      "| OEM   | 후레시스     | 매콤돼지구이               | 해당없음   | 뱅킹화   | 후지              | 매콤한 소스에 버무려진 다이스된 돼지구이 도시락 반찬 |\n",
      "| OEM   | 후레시스     | 돈후지 불고기 2종         | 해당없음   | 뱅킹화   | 후지              | 돈후지를 활용한 2종류 도시락용 비가열 불고기 제품  |\n",
      "| ODM   | GS25         | 유어스)정품소시지         | 해당없음   | 런칭     | 후지, 지방        | 제주산 원료 및 돈장을 활용한 프리미"
     ]
    },
    {
     "data": {
      "text/plain": [
       "{'input': '돼지로 만든 제품 뭐가 있어?',\n",
       " 'chat_history': [],\n",
       " 'context': [Document(metadata={'sheet': '2023', 'source': '매콤돼지구이'}, page_content='sheet: 2023\\n구분: OEM\\n채널, 고객사: 후레시스\\n제품명: 매콤돼지구이\\n단종 여부: 해당없음\\n런칭여부: 뱅킹화\\n사용원료: 후지\\n컨셉: 매콤한 소스에 버무려진 다이스된 돼지구이 컨셉의 도시락 반찬\\n이마트 24 제안 최근 스펙 만족 피드백'),\n",
       "  Document(metadata={'sheet': '2023', 'source': '큐브찹스테이크'}, page_content='sheet: 2023\\n구분: ODM\\n채널, 고객사: 군납\\n제품명: 큐브찹스테이크\\n단종 여부: 단종\\n런칭여부: 런칭\\n사용원료: 후지\\n컨셉: 외주업체(에프와이지) 생산하는 후지 다이스하여 소스 버무린 토핑용 제품 '),\n",
       "  Document(metadata={'sheet': '2023', 'source': '돈후지 불고기 2종'}, page_content='sheet: 2023\\n구분: OEM\\n채널, 고객사: 후레시스\\n제품명: 돈후지 불고기 2종\\n단종 여부: 해당없음\\n런칭여부: 뱅킹화\\n사용원료: 후지\\n컨셉: 돈후지를 활용한 2가지 종류의 도시락용 비가열 불고기 제품 (간장/고추장)'),\n",
       "  Document(metadata={'sheet': '2023', 'source': '유어스)정품소시지'}, page_content='sheet: 2023\\n구분: ODM\\n채널, 고객사: GS25\\n제품명: 유어스)정품소시지\\n단종 여부: 해당없음\\n런칭여부: 런칭\\n사용원료: 후지, 지방\\n컨셉: 제주산 원료 및 돈장을 활용한 프리미엄 컨셉의 후크걸이 소시지'),\n",
       "  Document(metadata={'sheet': '2023', 'source': '페퍼맛소시지15(냉장)'}, page_content='sheet: 2023\\n구분: ODM\\n채널, 고객사: GS25\\n제품명: 페퍼맛소시지15(냉장)\\n단종 여부: 단종\\n런칭여부: 런칭\\n사용원료: 후지, 지방\\n컨셉: 주먹밥 도시락용 소중량 소시지'),\n",
       "  Document(metadata={'sheet': '2023', 'source': '이삭 전지베이컨'}, page_content='sheet: 2023\\n구분: ODM\\n채널, 고객사: 이삭토스트\\n제품명: 이삭 전지베이컨\\n단종 여부: 해당없음\\n런칭여부: 뱅킹화\\n사용원료: 전지\\n컨셉: 토스트용 전지베이컨 (오뗄 제품 대체)'),\n",
       "  Document(metadata={'sheet': '2023', 'source': '말이어묵용 소시지'}, page_content='sheet: 2023\\n구분: ODM\\n채널, 고객사: 풀무원\\n제품명: 말이어묵용 소시지\\n단종 여부: 해당없음\\n런칭여부: 뱅킹화\\n사용원료: 후지, 지방\\n컨셉: 말이어묵 상품 안에 들어가는 소시지 제품'),\n",
       "  Document(metadata={'sheet': '2023', 'source': '한솥토네이도소시지 페퍼'}, page_content='sheet: 2023\\n구분: ODM\\n채널, 고객사: 한솥도시락\\n제품명: 한솥토네이도소시지 페퍼\\n단종 여부: 해당없음\\n런칭여부: 뱅킹화\\n사용원료: 후지, 지방\\n컨셉: 토네이도 형태의 페퍼맛 소시지 제품'),\n",
       "  Document(metadata={'sheet': '2023', 'source': '말이어묵용 소시지'}, page_content='sheet: 2023\\n구분: ODM\\n채널, 고객사: 풀무원\\n제품명: 말이어묵용 소시지\\n단종 여부: 해당없음\\n런칭여부: 뱅킹화\\n사용원료: 후지, 지방\\n컨셉: 말이어묵 상품 안에 들어가는 소시지 제품'),\n",
       "  Document(metadata={'sheet': '2023', 'source': '말이어묵용 소시지'}, page_content='sheet: 2023\\n구분: ODM\\n채널, 고객사: 풀무원\\n제품명: 말이어묵용 소시지\\n단종 여부: 해당없음\\n런칭여부: 뱅킹화\\n사용원료: 후지, 지방\\n컨셉: 말이어묵 상품 안에 들어가는 소시지 제품'),\n",
       "  Document(metadata={'sheet': '2023', 'source': '육즙가득핫도그용소시지'}, page_content='sheet: 2023\\n구분: ODM\\n채널, 고객사: 신세계푸드\\n제품명: 육즙가득핫도그용소시지\\n단종 여부: 해당없음\\n런칭여부: 런칭\\n사용원료: 후지, 지방\\n컨셉: 핫도그 대리점용 냉장 소시지 제품'),\n",
       "  Document(metadata={'sheet': '2023', 'source': '육즙가득 선진후랑크'}, page_content='sheet: 2023\\n구분: ODM\\n채널, 고객사: 디엔비\\n제품명: 육즙가득 선진후랑크\\n단종 여부: 해당없음\\n런칭여부: 런칭\\n사용원료: 후지, 지방\\n컨셉: 빼빼롱소시지 extension 제품'),\n",
       "  Document(metadata={'sheet': '2023', 'source': '선진카나디안햄[부대찌개용]'}, page_content='sheet: 2023\\n구분: ODM\\n채널, 고객사: GS25\\n제품명: 선진카나디안햄[부대찌개용]\\n단종 여부: 단종\\n런칭여부: 런칭\\n사용원료: 후지, 지방\\n컨셉: 혜자도시락 부대찌개볶음 도시락 구성품'),\n",
       "  Document(metadata={'sheet': '2023', 'source': '큐브찹스테이크'}, page_content='sheet: 2023\\n구분: ODM\\n채널, 고객사: 삼성웰스토리\\n제품명: 큐브찹스테이크\\n단종 여부: 해당없음\\n런칭여부: 런칭\\n사용원료: 후지\\n컨셉: 후지 다이스하여 소스 버무린 토핑용 제품 '),\n",
       "  Document(metadata={'sheet': '2023', 'source': '롱후랑크소시지30'}, page_content='sheet: 2023\\n구분: ODM\\n채널, 고객사: GS25\\n제품명: 롱후랑크소시지30\\n단종 여부: 단종\\n런칭여부: 런칭\\n사용원료: 후지, 지방, MDCM\\n컨셉: 냉동 콘도그 상품 안에 들어가는 가성비 타입의 소시지 제품'),\n",
       "  Document(metadata={'sheet': '2023', 'source': '이탈리안페퍼소시지'}, page_content='sheet: 2023\\n구분: ODM\\n채널, 고객사: 도미노피자\\n제품명: 이탈리안페퍼소시지\\n단종 여부: 해당없음\\n런칭여부: 런칭\\n사용원료: 후지, 지방\\n컨셉: 이탈리안 허브 시즈닝을 적용한 슬라이스 소시지'),\n",
       "  Document(metadata={'sheet': '2023', 'source': '멜팅피스 핫도그용소시지(오리지널)'}, page_content='sheet: 2023\\n구분: OEM\\n채널, 고객사: 외식자재\\n제품명: 멜팅피스 핫도그용소시지(오리지널)\\n단종 여부: 해당없음\\n런칭여부: 런칭\\n사용원료: 후지, 지방\\n컨셉: 고기씹는 거친 식감과 육즙이 풍부한 핫도그용 소시지(멜팅피스)'),\n",
       "  Document(metadata={'sheet': '2023', 'source': '유어스)바베큐폭립 -매콤한맛-'}, page_content='sheet: 2023\\n구분: ODM\\n채널, 고객사: GS25\\n제품명: 유어스)바베큐폭립 -매콤한맛-\\n단종 여부: 단종\\n런칭여부: 런칭\\n사용원료: 로인립\\n컨셉: 편의점 안주/간식용 매운맛 소스를 적용한 로인립\\n시즌 한정 제품으로 조기 단종'),\n",
       "  Document(metadata={'sheet': '2023', 'source': '소시지슬라이스토핑'}, page_content='sheet: 2023\\n구분: ODM\\n채널, 고객사: 피자헛\\n제품명: 소시지슬라이스토핑\\n단종 여부: 단종\\n런칭여부: 런칭\\n사용원료: 후지, 지방\\n컨셉: 피자 토핑용 슬라이스 소시지(칵테일 소시지 규격 변경)'),\n",
       "  Document(metadata={'sheet': '2023', 'source': '살시챠토핑'}, page_content='sheet: 2023\\n구분: ODM\\n채널, 고객사: 신세계푸드\\n제품명: 살시챠토핑\\n단종 여부: 해당없음\\n런칭여부: 뱅킹화\\n사용원료: 후지, 지방\\n컨셉: 이태리 살시차 소시지 맛의 피자 토핑용 제품')],\n",
       " 'answer': '돼지로 만든 제품 몇 가지를 보여드리겠습니다.\\n\\n첫 번째 제품은 2023년도에 출시된 \"매콤돼지구이\"입니다. 해당 제품은 후지를 사용하여 만들어진 매콤한 소스에 버무려진 다이스된 돼지구이 컨셉의 도시락 반찬입니다. 2023년도에 출시되어 아직까지 단종된 바 없으며 이마트 24 제안 최근 스펙 만족 피드백이 있습니다.\\n\\n두 번째 제품은 2023년도에 출시된 \"돈후지 불고기 2종\"입니다. 해당 제품은 돈후지를 활용한 2가지 종류의 도시락용 비가열 불고기 제품(간장/고추장)으로, 2023년도에 출시되어 아직까지 단종된 바 없습니다.\\n\\n세 번째 제품은 2023년도에 출시된 \"유어스)정품소시지\"입니다. 이 제품은 제주산 원료 및 돈장을 활용한 프리미엄 컨셉의 후크걸이 소시지로, 2023년도에 출시되어 아직까지 단종된 바 없습니다.\\n\\n이 밖에도 돼지로 만든 제품이 더 있을 수 있으며,\\n더 다양한 제품 정보를 알고 싶으시다면 사용원료인 후지 제품에 대해 검색해주세요.\\n\\n| 구분  | 채널, 고객사   | 제품명                     | 단종 여부 | 런칭여부   | 사용원료           | 컨셉                                             |\\n|-------|---------------|---------------------------|-----------|-----------|-------------------|--------------------------------------------------|\\n| OEM   | 후레시스     | 매콤돼지구이               | 해당없음   | 뱅킹화   | 후지              | 매콤한 소스에 버무려진 다이스된 돼지구이 도시락 반찬 |\\n| OEM   | 후레시스     | 돈후지 불고기 2종         | 해당없음   | 뱅킹화   | 후지              | 돈후지를 활용한 2종류 도시락용 비가열 불고기 제품  |\\n| ODM   | GS25         | 유어스)정품소시지         | 해당없음   | 런칭     | 후지, 지방        | 제주산 원료 및 돈장을 활용한 프리미'}"
      ]
     },
     "execution_count": 111,
     "metadata": {},
     "output_type": "execute_result"
    }
   ],
   "source": [
    "conversational_rag_chain.invoke(\n",
    "    {\"input\": \"돼\"},\n",
    "    config={\"configurable\": {\"session_id\": \"abc123\"}},\n",
    ")"
   ]
  },
  {
   "cell_type": "markdown",
   "metadata": {},
   "source": [
    "질문 분류기"
   ]
  },
  {
   "cell_type": "code",
   "execution_count": 246,
   "metadata": {},
   "outputs": [],
   "source": [
    "import pandas as pd\n",
    "\n",
    "data = {\n",
    "    'question': [\n",
    "        \"닭가슴살 제품이 뭐가 있어?\",\n",
    "        \"빼빼로데이를 맞이해서 신메뉴를 만들고 싶은데 추천해줘\",\n",
    "        \"학교에 납품하는 소시지 제품 알려줘\",\n",
    "        \"발렌타인데이를 맞이하여 출시한 제품을 알려줘\",\n",
    "        \"매운 제품 뭐가 있지\",\n",
    "        \"빼빼로데이를 맞이해서 신메뉴를 만들고 싶은데 아이디어 있을까\", # 여기서부터 라벨\n",
    "        \"GS25를 타켓으로 어떤 제품을 구상하는게 좋을까\",\n",
    "        \"신제품 아이디어 생각 좀 해줘\",\n",
    "        \"닭을 사용해서 만든 제품 뭐가 있어?\",\n",
    "        \"불고기랑 비슷한 제품 찾아줘\",\n",
    "    ],\n",
    "    'label': [0, 1, 0, 0, 0, 1, 1, 1, 0, 0] # 1: 일반 질문, 0: RAG 질문\n",
    "}\n",
    "\n",
    "df = pd.DataFrame(data)\n",
    "df.to_csv('secelect_question_type.csv', index=False)"
   ]
  },
  {
   "cell_type": "code",
   "execution_count": 257,
   "metadata": {},
   "outputs": [],
   "source": [
    "from datasets import load_dataset\n",
    "from transformers import BertTokenizer, BertForSequenceClassification, Trainer, TrainingArguments\n",
    "\n",
    "# 데이터셋 로드 (예시로 로컬 CSV 파일 사용)\n",
    "dataset = load_dataset('csv', data_files='C:/Users/SUNJIN/Documents/인턴/03_ideachatbot/test/secelect_question_type.csv')"
   ]
  },
  {
   "cell_type": "code",
   "execution_count": 258,
   "metadata": {},
   "outputs": [
    {
     "data": {
      "text/plain": [
       "DatasetDict({\n",
       "    train: Dataset({\n",
       "        features: ['question', 'label'],\n",
       "        num_rows: 10\n",
       "    })\n",
       "})"
      ]
     },
     "execution_count": 258,
     "metadata": {},
     "output_type": "execute_result"
    }
   ],
   "source": [
    "dataset"
   ]
  },
  {
   "cell_type": "code",
   "execution_count": 263,
   "metadata": {},
   "outputs": [
    {
     "name": "stderr",
     "output_type": "stream",
     "text": [
      "Map: 100%|██████████| 10/10 [00:00<00:00, 599.71 examples/s]\n"
     ]
    }
   ],
   "source": [
    "from datasets import load_dataset\n",
    "from transformers import BertTokenizer\n",
    "\n",
    "# 데이터셋 로드 (예시로 로컬 CSV 파일 사용)\n",
    "dataset = load_dataset('csv', data_files='C:/Users/SUNJIN/Documents/인턴/03_ideachatbot/test/secelect_question_type.csv')\n",
    "\n",
    "# 토크나이저 초기화\n",
    "tokenizer = BertTokenizer.from_pretrained('bert-base-uncased')\n",
    "\n",
    "# 토크나이징 함수 정의\n",
    "def tokenize_function(examples):\n",
    "    # examples['question']는 각 배치에 대한 질문 리스트입니다\n",
    "    return tokenizer(examples['question'], padding=\"max_length\", truncation=True)\n",
    "\n",
    "# 토크나이징 적용\n",
    "tokenized_datasets = dataset.map(tokenize_function, batched=True)\n"
   ]
  },
  {
   "cell_type": "code",
   "execution_count": 266,
   "metadata": {},
   "outputs": [
    {
     "name": "stdout",
     "output_type": "stream",
     "text": [
      "Train dataset size: 8\n",
      "Validation dataset size: 2\n"
     ]
    }
   ],
   "source": [
    "train_test_split = tokenized_datasets['train'].train_test_split(test_size=0.2)\n",
    "train_dataset = train_test_split['train']\n",
    "valid_dataset = train_test_split['test']\n",
    "\n",
    "# 결과 확인\n",
    "print(f\"Train dataset size: {len(train_dataset)}\")\n",
    "print(f\"Validation dataset size: {len(valid_dataset)}\")"
   ]
  },
  {
   "cell_type": "code",
   "execution_count": 270,
   "metadata": {},
   "outputs": [
    {
     "ename": "NameError",
     "evalue": "name 'eval_dataset' is not defined",
     "output_type": "error",
     "traceback": [
      "\u001b[1;31m---------------------------------------------------------------------------\u001b[0m",
      "\u001b[1;31mNameError\u001b[0m                                 Traceback (most recent call last)",
      "Cell \u001b[1;32mIn[270], line 1\u001b[0m\n\u001b[1;32m----> 1\u001b[0m \u001b[43meval_dataset\u001b[49m\n",
      "\u001b[1;31mNameError\u001b[0m: name 'eval_dataset' is not defined"
     ]
    }
   ],
   "source": [
    "eval_dataset"
   ]
  },
  {
   "cell_type": "code",
   "execution_count": 271,
   "metadata": {},
   "outputs": [
    {
     "name": "stderr",
     "output_type": "stream",
     "text": [
      "Some weights of BertForSequenceClassification were not initialized from the model checkpoint at bert-base-uncased and are newly initialized: ['classifier.bias', 'classifier.weight']\n",
      "You should probably TRAIN this model on a down-stream task to be able to use it for predictions and inference.\n",
      "100%|██████████| 6/6 [00:45<00:00,  7.62s/it]"
     ]
    },
    {
     "name": "stdout",
     "output_type": "stream",
     "text": [
      "{'train_runtime': 45.7142, 'train_samples_per_second': 0.656, 'train_steps_per_second': 0.131, 'train_loss': 0.659119447072347, 'epoch': 3.0}\n"
     ]
    },
    {
     "name": "stderr",
     "output_type": "stream",
     "text": [
      "\n"
     ]
    },
    {
     "data": {
      "text/plain": [
       "TrainOutput(global_step=6, training_loss=0.659119447072347, metrics={'train_runtime': 45.7142, 'train_samples_per_second': 0.656, 'train_steps_per_second': 0.131, 'total_flos': 7893331660800.0, 'train_loss': 0.659119447072347, 'epoch': 3.0})"
      ]
     },
     "execution_count": 271,
     "metadata": {},
     "output_type": "execute_result"
    }
   ],
   "source": [
    "# 학습 준비 및 모델 정의\n",
    "model = BertForSequenceClassification.from_pretrained('bert-base-uncased', num_labels=2)\n",
    "training_args = TrainingArguments(output_dir=\"./results\", num_train_epochs=3)\n",
    "\n",
    "trainer = Trainer(\n",
    "    model=model,\n",
    "    args=training_args,\n",
    "    train_dataset=tokenized_datasets['train'],\n",
    "    eval_dataset=valid_dataset\n",
    ")\n",
    "\n",
    "# 모델 학습\n",
    "trainer.train()"
   ]
  },
  {
   "cell_type": "code",
   "execution_count": 272,
   "metadata": {},
   "outputs": [
    {
     "data": {
      "text/plain": [
       "('./result/tokenizer\\\\tokenizer_config.json',\n",
       " './result/tokenizer\\\\special_tokens_map.json',\n",
       " './result/tokenizer\\\\vocab.txt',\n",
       " './result/tokenizer\\\\added_tokens.json')"
      ]
     },
     "execution_count": 272,
     "metadata": {},
     "output_type": "execute_result"
    }
   ],
   "source": [
    "model.save_pretrained(\"./result/model_1\")\n",
    "tokenizer.save_pretrained(\"./result/tokenizer\")"
   ]
  },
  {
   "cell_type": "code",
   "execution_count": null,
   "metadata": {},
   "outputs": [],
   "source": [
    "from transformers import BertTokenizer, BertForSequenceClassification\n",
    "import torch\n",
    "\n",
    "# 이미 학습된 모델과 토크나이저 로드\n",
    "model = BertTokenizer.from_pretrained(\"C:/Users/SUNJIN/Documents/인턴/03_ideachatbot/test/result/model_1\")\n",
    "tokenizer = BertForSequenceClassification.from_pretrained(\"C:/Users/SUNJIN/Documents/인턴/03_ideachatbot/test/result/tokenizer\")\n",
    "\n",
    "# 입력 문장 예시\n",
    "input_text = \"소고기랑 관련 된 제품 있어?\"\n",
    "\n",
    "# 토크나이징\n",
    "inputs = tokenizer(input_text, return_tensors='pt', padding=\"max_length\", truncation=True, max_length=128)\n",
    "\n",
    "# 모델에 입력 데이터 전달하여 예측 수행\n",
    "with torch.no_grad():\n",
    "    outputs = model(**inputs)\n",
    "\n",
    "# 로짓(logit) 값 추출\n",
    "logits = outputs.logits\n",
    "\n",
    "# 예측된 클래스(라벨) 확인\n",
    "predicted_class_id = torch.argmax(logits, dim=1).item()\n",
    "predicted_class = model.config.id2label[predicted_class_id]\n",
    "\n",
    "# 결과 출력\n",
    "print(f\"문장: {input_text}\")\n",
    "print(f\"예측된 클래스 ID: {predicted_class_id}\")\n",
    "print(f\"예측된 클래스: {predicted_class}\")\n"
   ]
  },
  {
   "cell_type": "code",
   "execution_count": 3,
   "metadata": {},
   "outputs": [
    {
     "name": "stdout",
     "output_type": "stream",
     "text": [
      "문장: GS25를 타켓으로 어떤 제품을 구상하는게 좋을까\n",
      "예측된 클래스 ID: 0\n",
      "예측된 클래스: LABEL_0\n"
     ]
    }
   ],
   "source": [
    "from transformers import BertTokenizer, BertForSequenceClassification\n",
    "\n",
    "# 저장된 모델과 토크나이저 경로\n",
    "model_path = 'C:/Users/SUNJIN/Documents/인턴/03_ideachatbot/test/result/model_1'\n",
    "tokenizer_path = 'C:/Users/SUNJIN/Documents/인턴/03_ideachatbot/test/result/tokenizer'\n",
    "\n",
    "# 저장된 모델과 토크나이저 불러오기\n",
    "model = BertForSequenceClassification.from_pretrained(model_path)\n",
    "tokenizer = BertTokenizer.from_pretrained(tokenizer_path)\n",
    "\n",
    "# 입력 문장 예시\n",
    "input_text = \"GS25를 타켓으로 어떤 제품을 구상하는게 좋을까\"\n",
    "\n",
    "# 토크나이징\n",
    "inputs = tokenizer(input_text, return_tensors='pt', padding=\"max_length\", truncation=True, max_length=128)\n",
    "\n",
    "# 모델에 입력 데이터 전달하여 예측 수행\n",
    "import torch\n",
    "with torch.no_grad():\n",
    "    outputs = model(**inputs)\n",
    "\n",
    "# 로짓(logit) 값 추출\n",
    "logits = outputs.logits\n",
    "\n",
    "# 예측된 클래스(라벨) 확인\n",
    "predicted_class_id = torch.argmax(logits, dim=1).item()\n",
    "predicted_class = model.config.id2label[predicted_class_id]\n",
    "\n",
    "# 결과 출력\n",
    "print(f\"문장: {input_text}\")\n",
    "print(f\"예측된 클래스 ID: {predicted_class_id}\")\n",
    "print(f\"예측된 클래스: {predicted_class}\")\n"
   ]
  }
 ],
 "metadata": {
  "kernelspec": {
   "display_name": "intern",
   "language": "python",
   "name": "python3"
  },
  "language_info": {
   "codemirror_mode": {
    "name": "ipython",
    "version": 3
   },
   "file_extension": ".py",
   "mimetype": "text/x-python",
   "name": "python",
   "nbconvert_exporter": "python",
   "pygments_lexer": "ipython3",
   "version": "3.8.19"
  }
 },
 "nbformat": 4,
 "nbformat_minor": 2
}
